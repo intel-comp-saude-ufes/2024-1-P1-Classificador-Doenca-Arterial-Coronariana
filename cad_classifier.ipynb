{
 "cells": [
  {
   "cell_type": "markdown",
   "metadata": {
    "id": "HdLU3Pn0u41O"
   },
   "source": [
    "## Leitura e conversão em dados numéricos"
   ]
  },
  {
   "cell_type": "markdown",
   "metadata": {
    "id": "8dYenKKtJLvx"
   },
   "source": [
    "Dados obtidos do dataset [Classification of Coronary Artery Disease](https://www.kaggle.com/datasets/saeedeheydarian/classification-of-coronary-artery-disease) do Kaggle.\n"
   ]
  },
  {
   "cell_type": "code",
   "execution_count": 53,
   "metadata": {
    "id": "O39j1DErvxv-"
   },
   "outputs": [],
   "source": [
    "# Imports\n",
    "import pandas as pd\n",
    "from sklearn.model_selection import train_test_split\n",
    "from sklearn.preprocessing import MinMaxScaler\n",
    "from sklearn.linear_model import LogisticRegression\n",
    "from sklearn.metrics import confusion_matrix\n",
    "from sklearn.metrics import ConfusionMatrixDisplay\n",
    "from sklearn.metrics import precision_score, recall_score, f1_score, accuracy_score\n",
    "from sklearn.metrics import roc_curve, auc\n",
    "import matplotlib.pyplot as plt\n",
    "from sklearn.neural_network import MLPClassifier\n",
    "from sklearn.neighbors import KNeighborsClassifier\n",
    "from sklearn.tree import DecisionTreeClassifier\n",
    "from sklearn.svm import SVC\n",
    "from sklearn.ensemble import RandomForestClassifier\n",
    "import xgboost as xgb\n",
    "from sklearn.model_selection import GridSearchCV"
   ]
  },
  {
   "cell_type": "code",
   "execution_count": 54,
   "metadata": {
    "colab": {
     "base_uri": "https://localhost:8080/",
     "height": 235
    },
    "id": "iOW7am-1KmBy",
    "outputId": "57874d27-24c9-49f4-950c-a05ab98c2524"
   },
   "outputs": [
    {
     "data": {
      "application/vnd.google.colaboratory.intrinsic+json": {
       "type": "dataframe",
       "variable_name": "df"
      },
      "text/html": [
       "\n",
       "  <div id=\"df-980217ce-299d-4154-a0d1-cc96f60d023a\" class=\"colab-df-container\">\n",
       "    <div>\n",
       "<style scoped>\n",
       "    .dataframe tbody tr th:only-of-type {\n",
       "        vertical-align: middle;\n",
       "    }\n",
       "\n",
       "    .dataframe tbody tr th {\n",
       "        vertical-align: top;\n",
       "    }\n",
       "\n",
       "    .dataframe thead th {\n",
       "        text-align: right;\n",
       "    }\n",
       "</style>\n",
       "<table border=\"1\" class=\"dataframe\">\n",
       "  <thead>\n",
       "    <tr style=\"text-align: right;\">\n",
       "      <th></th>\n",
       "      <th>Age</th>\n",
       "      <th>Weight</th>\n",
       "      <th>Length</th>\n",
       "      <th>Sex</th>\n",
       "      <th>BMI</th>\n",
       "      <th>DM</th>\n",
       "      <th>HTN</th>\n",
       "      <th>Current Smoker</th>\n",
       "      <th>EX-Smoker</th>\n",
       "      <th>FH</th>\n",
       "      <th>...</th>\n",
       "      <th>K</th>\n",
       "      <th>Na</th>\n",
       "      <th>WBC</th>\n",
       "      <th>Lymph</th>\n",
       "      <th>Neut</th>\n",
       "      <th>PLT</th>\n",
       "      <th>EF-TTE</th>\n",
       "      <th>Region RWMA</th>\n",
       "      <th>VHD</th>\n",
       "      <th>Cath</th>\n",
       "    </tr>\n",
       "  </thead>\n",
       "  <tbody>\n",
       "    <tr>\n",
       "      <th>0</th>\n",
       "      <td>53</td>\n",
       "      <td>90</td>\n",
       "      <td>175</td>\n",
       "      <td>Male</td>\n",
       "      <td>29.387755</td>\n",
       "      <td>0</td>\n",
       "      <td>1</td>\n",
       "      <td>1</td>\n",
       "      <td>0</td>\n",
       "      <td>0</td>\n",
       "      <td>...</td>\n",
       "      <td>4.7</td>\n",
       "      <td>141</td>\n",
       "      <td>5700</td>\n",
       "      <td>39</td>\n",
       "      <td>52</td>\n",
       "      <td>261</td>\n",
       "      <td>50</td>\n",
       "      <td>0</td>\n",
       "      <td>N</td>\n",
       "      <td>Cad</td>\n",
       "    </tr>\n",
       "    <tr>\n",
       "      <th>1</th>\n",
       "      <td>67</td>\n",
       "      <td>70</td>\n",
       "      <td>157</td>\n",
       "      <td>Fmale</td>\n",
       "      <td>28.398718</td>\n",
       "      <td>0</td>\n",
       "      <td>1</td>\n",
       "      <td>0</td>\n",
       "      <td>0</td>\n",
       "      <td>0</td>\n",
       "      <td>...</td>\n",
       "      <td>4.7</td>\n",
       "      <td>156</td>\n",
       "      <td>7700</td>\n",
       "      <td>38</td>\n",
       "      <td>55</td>\n",
       "      <td>165</td>\n",
       "      <td>40</td>\n",
       "      <td>4</td>\n",
       "      <td>N</td>\n",
       "      <td>Cad</td>\n",
       "    </tr>\n",
       "    <tr>\n",
       "      <th>2</th>\n",
       "      <td>54</td>\n",
       "      <td>54</td>\n",
       "      <td>164</td>\n",
       "      <td>Male</td>\n",
       "      <td>20.077335</td>\n",
       "      <td>0</td>\n",
       "      <td>0</td>\n",
       "      <td>1</td>\n",
       "      <td>0</td>\n",
       "      <td>0</td>\n",
       "      <td>...</td>\n",
       "      <td>4.7</td>\n",
       "      <td>139</td>\n",
       "      <td>7400</td>\n",
       "      <td>38</td>\n",
       "      <td>60</td>\n",
       "      <td>230</td>\n",
       "      <td>40</td>\n",
       "      <td>2</td>\n",
       "      <td>mild</td>\n",
       "      <td>Cad</td>\n",
       "    </tr>\n",
       "    <tr>\n",
       "      <th>3</th>\n",
       "      <td>66</td>\n",
       "      <td>67</td>\n",
       "      <td>158</td>\n",
       "      <td>Fmale</td>\n",
       "      <td>26.838648</td>\n",
       "      <td>0</td>\n",
       "      <td>1</td>\n",
       "      <td>0</td>\n",
       "      <td>0</td>\n",
       "      <td>0</td>\n",
       "      <td>...</td>\n",
       "      <td>4.4</td>\n",
       "      <td>142</td>\n",
       "      <td>13000</td>\n",
       "      <td>18</td>\n",
       "      <td>72</td>\n",
       "      <td>742</td>\n",
       "      <td>55</td>\n",
       "      <td>0</td>\n",
       "      <td>Severe</td>\n",
       "      <td>Normal</td>\n",
       "    </tr>\n",
       "    <tr>\n",
       "      <th>4</th>\n",
       "      <td>50</td>\n",
       "      <td>87</td>\n",
       "      <td>153</td>\n",
       "      <td>Fmale</td>\n",
       "      <td>37.165193</td>\n",
       "      <td>0</td>\n",
       "      <td>1</td>\n",
       "      <td>0</td>\n",
       "      <td>0</td>\n",
       "      <td>0</td>\n",
       "      <td>...</td>\n",
       "      <td>4.0</td>\n",
       "      <td>140</td>\n",
       "      <td>9200</td>\n",
       "      <td>55</td>\n",
       "      <td>39</td>\n",
       "      <td>274</td>\n",
       "      <td>50</td>\n",
       "      <td>0</td>\n",
       "      <td>Severe</td>\n",
       "      <td>Normal</td>\n",
       "    </tr>\n",
       "  </tbody>\n",
       "</table>\n",
       "<p>5 rows × 55 columns</p>\n",
       "</div>\n",
       "    <div class=\"colab-df-buttons\">\n",
       "\n",
       "  <div class=\"colab-df-container\">\n",
       "    <button class=\"colab-df-convert\" onclick=\"convertToInteractive('df-980217ce-299d-4154-a0d1-cc96f60d023a')\"\n",
       "            title=\"Convert this dataframe to an interactive table.\"\n",
       "            style=\"display:none;\">\n",
       "\n",
       "  <svg xmlns=\"http://www.w3.org/2000/svg\" height=\"24px\" viewBox=\"0 -960 960 960\">\n",
       "    <path d=\"M120-120v-720h720v720H120Zm60-500h600v-160H180v160Zm220 220h160v-160H400v160Zm0 220h160v-160H400v160ZM180-400h160v-160H180v160Zm440 0h160v-160H620v160ZM180-180h160v-160H180v160Zm440 0h160v-160H620v160Z\"/>\n",
       "  </svg>\n",
       "    </button>\n",
       "\n",
       "  <style>\n",
       "    .colab-df-container {\n",
       "      display:flex;\n",
       "      gap: 12px;\n",
       "    }\n",
       "\n",
       "    .colab-df-convert {\n",
       "      background-color: #E8F0FE;\n",
       "      border: none;\n",
       "      border-radius: 50%;\n",
       "      cursor: pointer;\n",
       "      display: none;\n",
       "      fill: #1967D2;\n",
       "      height: 32px;\n",
       "      padding: 0 0 0 0;\n",
       "      width: 32px;\n",
       "    }\n",
       "\n",
       "    .colab-df-convert:hover {\n",
       "      background-color: #E2EBFA;\n",
       "      box-shadow: 0px 1px 2px rgba(60, 64, 67, 0.3), 0px 1px 3px 1px rgba(60, 64, 67, 0.15);\n",
       "      fill: #174EA6;\n",
       "    }\n",
       "\n",
       "    .colab-df-buttons div {\n",
       "      margin-bottom: 4px;\n",
       "    }\n",
       "\n",
       "    [theme=dark] .colab-df-convert {\n",
       "      background-color: #3B4455;\n",
       "      fill: #D2E3FC;\n",
       "    }\n",
       "\n",
       "    [theme=dark] .colab-df-convert:hover {\n",
       "      background-color: #434B5C;\n",
       "      box-shadow: 0px 1px 3px 1px rgba(0, 0, 0, 0.15);\n",
       "      filter: drop-shadow(0px 1px 2px rgba(0, 0, 0, 0.3));\n",
       "      fill: #FFFFFF;\n",
       "    }\n",
       "  </style>\n",
       "\n",
       "    <script>\n",
       "      const buttonEl =\n",
       "        document.querySelector('#df-980217ce-299d-4154-a0d1-cc96f60d023a button.colab-df-convert');\n",
       "      buttonEl.style.display =\n",
       "        google.colab.kernel.accessAllowed ? 'block' : 'none';\n",
       "\n",
       "      async function convertToInteractive(key) {\n",
       "        const element = document.querySelector('#df-980217ce-299d-4154-a0d1-cc96f60d023a');\n",
       "        const dataTable =\n",
       "          await google.colab.kernel.invokeFunction('convertToInteractive',\n",
       "                                                    [key], {});\n",
       "        if (!dataTable) return;\n",
       "\n",
       "        const docLinkHtml = 'Like what you see? Visit the ' +\n",
       "          '<a target=\"_blank\" href=https://colab.research.google.com/notebooks/data_table.ipynb>data table notebook</a>'\n",
       "          + ' to learn more about interactive tables.';\n",
       "        element.innerHTML = '';\n",
       "        dataTable['output_type'] = 'display_data';\n",
       "        await google.colab.output.renderOutput(dataTable, element);\n",
       "        const docLink = document.createElement('div');\n",
       "        docLink.innerHTML = docLinkHtml;\n",
       "        element.appendChild(docLink);\n",
       "      }\n",
       "    </script>\n",
       "  </div>\n",
       "\n",
       "\n",
       "<div id=\"df-fc503e89-6754-4224-80ff-8365ab82e647\">\n",
       "  <button class=\"colab-df-quickchart\" onclick=\"quickchart('df-fc503e89-6754-4224-80ff-8365ab82e647')\"\n",
       "            title=\"Suggest charts\"\n",
       "            style=\"display:none;\">\n",
       "\n",
       "<svg xmlns=\"http://www.w3.org/2000/svg\" height=\"24px\"viewBox=\"0 0 24 24\"\n",
       "     width=\"24px\">\n",
       "    <g>\n",
       "        <path d=\"M19 3H5c-1.1 0-2 .9-2 2v14c0 1.1.9 2 2 2h14c1.1 0 2-.9 2-2V5c0-1.1-.9-2-2-2zM9 17H7v-7h2v7zm4 0h-2V7h2v10zm4 0h-2v-4h2v4z\"/>\n",
       "    </g>\n",
       "</svg>\n",
       "  </button>\n",
       "\n",
       "<style>\n",
       "  .colab-df-quickchart {\n",
       "      --bg-color: #E8F0FE;\n",
       "      --fill-color: #1967D2;\n",
       "      --hover-bg-color: #E2EBFA;\n",
       "      --hover-fill-color: #174EA6;\n",
       "      --disabled-fill-color: #AAA;\n",
       "      --disabled-bg-color: #DDD;\n",
       "  }\n",
       "\n",
       "  [theme=dark] .colab-df-quickchart {\n",
       "      --bg-color: #3B4455;\n",
       "      --fill-color: #D2E3FC;\n",
       "      --hover-bg-color: #434B5C;\n",
       "      --hover-fill-color: #FFFFFF;\n",
       "      --disabled-bg-color: #3B4455;\n",
       "      --disabled-fill-color: #666;\n",
       "  }\n",
       "\n",
       "  .colab-df-quickchart {\n",
       "    background-color: var(--bg-color);\n",
       "    border: none;\n",
       "    border-radius: 50%;\n",
       "    cursor: pointer;\n",
       "    display: none;\n",
       "    fill: var(--fill-color);\n",
       "    height: 32px;\n",
       "    padding: 0;\n",
       "    width: 32px;\n",
       "  }\n",
       "\n",
       "  .colab-df-quickchart:hover {\n",
       "    background-color: var(--hover-bg-color);\n",
       "    box-shadow: 0 1px 2px rgba(60, 64, 67, 0.3), 0 1px 3px 1px rgba(60, 64, 67, 0.15);\n",
       "    fill: var(--button-hover-fill-color);\n",
       "  }\n",
       "\n",
       "  .colab-df-quickchart-complete:disabled,\n",
       "  .colab-df-quickchart-complete:disabled:hover {\n",
       "    background-color: var(--disabled-bg-color);\n",
       "    fill: var(--disabled-fill-color);\n",
       "    box-shadow: none;\n",
       "  }\n",
       "\n",
       "  .colab-df-spinner {\n",
       "    border: 2px solid var(--fill-color);\n",
       "    border-color: transparent;\n",
       "    border-bottom-color: var(--fill-color);\n",
       "    animation:\n",
       "      spin 1s steps(1) infinite;\n",
       "  }\n",
       "\n",
       "  @keyframes spin {\n",
       "    0% {\n",
       "      border-color: transparent;\n",
       "      border-bottom-color: var(--fill-color);\n",
       "      border-left-color: var(--fill-color);\n",
       "    }\n",
       "    20% {\n",
       "      border-color: transparent;\n",
       "      border-left-color: var(--fill-color);\n",
       "      border-top-color: var(--fill-color);\n",
       "    }\n",
       "    30% {\n",
       "      border-color: transparent;\n",
       "      border-left-color: var(--fill-color);\n",
       "      border-top-color: var(--fill-color);\n",
       "      border-right-color: var(--fill-color);\n",
       "    }\n",
       "    40% {\n",
       "      border-color: transparent;\n",
       "      border-right-color: var(--fill-color);\n",
       "      border-top-color: var(--fill-color);\n",
       "    }\n",
       "    60% {\n",
       "      border-color: transparent;\n",
       "      border-right-color: var(--fill-color);\n",
       "    }\n",
       "    80% {\n",
       "      border-color: transparent;\n",
       "      border-right-color: var(--fill-color);\n",
       "      border-bottom-color: var(--fill-color);\n",
       "    }\n",
       "    90% {\n",
       "      border-color: transparent;\n",
       "      border-bottom-color: var(--fill-color);\n",
       "    }\n",
       "  }\n",
       "</style>\n",
       "\n",
       "  <script>\n",
       "    async function quickchart(key) {\n",
       "      const quickchartButtonEl =\n",
       "        document.querySelector('#' + key + ' button');\n",
       "      quickchartButtonEl.disabled = true;  // To prevent multiple clicks.\n",
       "      quickchartButtonEl.classList.add('colab-df-spinner');\n",
       "      try {\n",
       "        const charts = await google.colab.kernel.invokeFunction(\n",
       "            'suggestCharts', [key], {});\n",
       "      } catch (error) {\n",
       "        console.error('Error during call to suggestCharts:', error);\n",
       "      }\n",
       "      quickchartButtonEl.classList.remove('colab-df-spinner');\n",
       "      quickchartButtonEl.classList.add('colab-df-quickchart-complete');\n",
       "    }\n",
       "    (() => {\n",
       "      let quickchartButtonEl =\n",
       "        document.querySelector('#df-fc503e89-6754-4224-80ff-8365ab82e647 button');\n",
       "      quickchartButtonEl.style.display =\n",
       "        google.colab.kernel.accessAllowed ? 'block' : 'none';\n",
       "    })();\n",
       "  </script>\n",
       "</div>\n",
       "\n",
       "    </div>\n",
       "  </div>\n"
      ],
      "text/plain": [
       "   Age  Weight  Length    Sex        BMI  DM  HTN  Current Smoker  EX-Smoker  \\\n",
       "0   53      90     175   Male  29.387755   0    1               1          0   \n",
       "1   67      70     157  Fmale  28.398718   0    1               0          0   \n",
       "2   54      54     164   Male  20.077335   0    0               1          0   \n",
       "3   66      67     158  Fmale  26.838648   0    1               0          0   \n",
       "4   50      87     153  Fmale  37.165193   0    1               0          0   \n",
       "\n",
       "   FH  ...    K   Na    WBC Lymph Neut  PLT EF-TTE  Region RWMA     VHD  \\\n",
       "0   0  ...  4.7  141   5700    39   52  261     50            0       N   \n",
       "1   0  ...  4.7  156   7700    38   55  165     40            4       N   \n",
       "2   0  ...  4.7  139   7400    38   60  230     40            2    mild   \n",
       "3   0  ...  4.4  142  13000    18   72  742     55            0  Severe   \n",
       "4   0  ...  4.0  140   9200    55   39  274     50            0  Severe   \n",
       "\n",
       "     Cath  \n",
       "0     Cad  \n",
       "1     Cad  \n",
       "2     Cad  \n",
       "3  Normal  \n",
       "4  Normal  \n",
       "\n",
       "[5 rows x 55 columns]"
      ]
     },
     "execution_count": 54,
     "metadata": {},
     "output_type": "execute_result"
    }
   ],
   "source": [
    "# Leitura dos dados\n",
    "df = pd.read_csv(\"CAD.csv\")\n",
    "df.head()"
   ]
  },
  {
   "cell_type": "code",
   "execution_count": 55,
   "metadata": {
    "colab": {
     "base_uri": "https://localhost:8080/"
    },
    "id": "CDm_6tLXMB1Y",
    "outputId": "e1029771-bf45-449b-80a0-184b7185ac0b"
   },
   "outputs": [
    {
     "name": "stdout",
     "output_type": "stream",
     "text": [
      "<class 'pandas.core.frame.DataFrame'>\n",
      "RangeIndex: 303 entries, 0 to 302\n",
      "Data columns (total 55 columns):\n",
      " #   Column                 Non-Null Count  Dtype  \n",
      "---  ------                 --------------  -----  \n",
      " 0   Age                    303 non-null    int64  \n",
      " 1   Weight                 303 non-null    int64  \n",
      " 2   Length                 303 non-null    int64  \n",
      " 3   Sex                    303 non-null    object \n",
      " 4   BMI                    303 non-null    float64\n",
      " 5   DM                     303 non-null    int64  \n",
      " 6   HTN                    303 non-null    int64  \n",
      " 7   Current Smoker         303 non-null    int64  \n",
      " 8   EX-Smoker              303 non-null    int64  \n",
      " 9   FH                     303 non-null    int64  \n",
      " 10  Obesity                303 non-null    object \n",
      " 11  CRF                    303 non-null    object \n",
      " 12  CVA                    303 non-null    object \n",
      " 13  Airway disease         303 non-null    object \n",
      " 14  Thyroid Disease        303 non-null    object \n",
      " 15  CHF                    303 non-null    object \n",
      " 16  DLP                    303 non-null    object \n",
      " 17  BP                     303 non-null    int64  \n",
      " 18  PR                     303 non-null    int64  \n",
      " 19  Edema                  303 non-null    int64  \n",
      " 20  Weak Peripheral Pulse  303 non-null    object \n",
      " 21  Lung rales             303 non-null    object \n",
      " 22  Systolic Murmur        303 non-null    object \n",
      " 23  Diastolic Murmur       303 non-null    object \n",
      " 24  Typical Chest Pain     303 non-null    int64  \n",
      " 25  Dyspnea                303 non-null    object \n",
      " 26  Function Class         303 non-null    int64  \n",
      " 27  Atypical               303 non-null    object \n",
      " 28  Nonanginal             303 non-null    object \n",
      " 29  Exertional CP          303 non-null    object \n",
      " 30  LowTH Ang              303 non-null    object \n",
      " 31  Q Wave                 303 non-null    int64  \n",
      " 32  St Elevation           303 non-null    int64  \n",
      " 33  St Depression          303 non-null    int64  \n",
      " 34  Tinversion             303 non-null    int64  \n",
      " 35  LVH                    303 non-null    object \n",
      " 36  Poor R Progression     303 non-null    object \n",
      " 37  FBS                    303 non-null    int64  \n",
      " 38  CR                     303 non-null    float64\n",
      " 39  TG                     303 non-null    int64  \n",
      " 40  LDL                    303 non-null    int64  \n",
      " 41  HDL                    303 non-null    float64\n",
      " 42  BUN                    303 non-null    int64  \n",
      " 43  ESR                    303 non-null    int64  \n",
      " 44  HB                     303 non-null    float64\n",
      " 45  K                      303 non-null    float64\n",
      " 46  Na                     303 non-null    int64  \n",
      " 47  WBC                    303 non-null    int64  \n",
      " 48  Lymph                  303 non-null    int64  \n",
      " 49  Neut                   303 non-null    int64  \n",
      " 50  PLT                    303 non-null    int64  \n",
      " 51  EF-TTE                 303 non-null    int64  \n",
      " 52  Region RWMA            303 non-null    int64  \n",
      " 53  VHD                    303 non-null    object \n",
      " 54  Cath                   303 non-null    object \n",
      "dtypes: float64(5), int64(29), object(21)\n",
      "memory usage: 130.3+ KB\n"
     ]
    }
   ],
   "source": [
    "# Informações gerais dos datasets mostram que não existem dados nulos\n",
    "# Existem, no entanto, diversas colunas com dados em formato de texto (object)\n",
    "# que precisam ser convertidos para numéricos\n",
    "df.info()"
   ]
  },
  {
   "cell_type": "code",
   "execution_count": 56,
   "metadata": {
    "colab": {
     "base_uri": "https://localhost:8080/",
     "height": 241
    },
    "id": "gl-mgvm7i2RH",
    "outputId": "222ecdf5-701d-4dd9-bcd0-3d90975d0205"
   },
   "outputs": [
    {
     "data": {
      "application/vnd.google.colaboratory.intrinsic+json": {
       "summary": "{\n  \"name\": \"df[colunas_booleanas]\",\n  \"rows\": 5,\n  \"fields\": [\n    {\n      \"column\": \"Obesity\",\n      \"properties\": {\n        \"dtype\": \"category\",\n        \"num_unique_values\": 2,\n        \"samples\": [\n          \"N\",\n          \"Y\"\n        ],\n        \"semantic_type\": \"\",\n        \"description\": \"\"\n      }\n    },\n    {\n      \"column\": \"CRF\",\n      \"properties\": {\n        \"dtype\": \"category\",\n        \"num_unique_values\": 1,\n        \"samples\": [\n          \"N\"\n        ],\n        \"semantic_type\": \"\",\n        \"description\": \"\"\n      }\n    },\n    {\n      \"column\": \"CVA\",\n      \"properties\": {\n        \"dtype\": \"category\",\n        \"num_unique_values\": 1,\n        \"samples\": [\n          \"N\"\n        ],\n        \"semantic_type\": \"\",\n        \"description\": \"\"\n      }\n    },\n    {\n      \"column\": \"Airway disease\",\n      \"properties\": {\n        \"dtype\": \"category\",\n        \"num_unique_values\": 1,\n        \"samples\": [\n          \"N\"\n        ],\n        \"semantic_type\": \"\",\n        \"description\": \"\"\n      }\n    },\n    {\n      \"column\": \"Thyroid Disease\",\n      \"properties\": {\n        \"dtype\": \"category\",\n        \"num_unique_values\": 1,\n        \"samples\": [\n          \"N\"\n        ],\n        \"semantic_type\": \"\",\n        \"description\": \"\"\n      }\n    },\n    {\n      \"column\": \"CHF\",\n      \"properties\": {\n        \"dtype\": \"category\",\n        \"num_unique_values\": 1,\n        \"samples\": [\n          \"N\"\n        ],\n        \"semantic_type\": \"\",\n        \"description\": \"\"\n      }\n    },\n    {\n      \"column\": \"DLP\",\n      \"properties\": {\n        \"dtype\": \"category\",\n        \"num_unique_values\": 2,\n        \"samples\": [\n          \"N\"\n        ],\n        \"semantic_type\": \"\",\n        \"description\": \"\"\n      }\n    },\n    {\n      \"column\": \"Weak Peripheral Pulse\",\n      \"properties\": {\n        \"dtype\": \"category\",\n        \"num_unique_values\": 1,\n        \"samples\": [\n          \"N\"\n        ],\n        \"semantic_type\": \"\",\n        \"description\": \"\"\n      }\n    },\n    {\n      \"column\": \"Lung rales\",\n      \"properties\": {\n        \"dtype\": \"category\",\n        \"num_unique_values\": 1,\n        \"samples\": [\n          \"N\"\n        ],\n        \"semantic_type\": \"\",\n        \"description\": \"\"\n      }\n    },\n    {\n      \"column\": \"Systolic Murmur\",\n      \"properties\": {\n        \"dtype\": \"category\",\n        \"num_unique_values\": 2,\n        \"samples\": [\n          \"Y\"\n        ],\n        \"semantic_type\": \"\",\n        \"description\": \"\"\n      }\n    },\n    {\n      \"column\": \"Diastolic Murmur\",\n      \"properties\": {\n        \"dtype\": \"category\",\n        \"num_unique_values\": 2,\n        \"samples\": [\n          \"Y\"\n        ],\n        \"semantic_type\": \"\",\n        \"description\": \"\"\n      }\n    },\n    {\n      \"column\": \"Dyspnea\",\n      \"properties\": {\n        \"dtype\": \"category\",\n        \"num_unique_values\": 2,\n        \"samples\": [\n          \"Y\"\n        ],\n        \"semantic_type\": \"\",\n        \"description\": \"\"\n      }\n    },\n    {\n      \"column\": \"Atypical\",\n      \"properties\": {\n        \"dtype\": \"category\",\n        \"num_unique_values\": 1,\n        \"samples\": [\n          \"N\"\n        ],\n        \"semantic_type\": \"\",\n        \"description\": \"\"\n      }\n    },\n    {\n      \"column\": \"Nonanginal\",\n      \"properties\": {\n        \"dtype\": \"category\",\n        \"num_unique_values\": 2,\n        \"samples\": [\n          \"Y\"\n        ],\n        \"semantic_type\": \"\",\n        \"description\": \"\"\n      }\n    },\n    {\n      \"column\": \"Exertional CP\",\n      \"properties\": {\n        \"dtype\": \"category\",\n        \"num_unique_values\": 1,\n        \"samples\": [\n          \"N\"\n        ],\n        \"semantic_type\": \"\",\n        \"description\": \"\"\n      }\n    },\n    {\n      \"column\": \"LowTH Ang\",\n      \"properties\": {\n        \"dtype\": \"category\",\n        \"num_unique_values\": 1,\n        \"samples\": [\n          \"N\"\n        ],\n        \"semantic_type\": \"\",\n        \"description\": \"\"\n      }\n    },\n    {\n      \"column\": \"LVH\",\n      \"properties\": {\n        \"dtype\": \"category\",\n        \"num_unique_values\": 1,\n        \"samples\": [\n          \"N\"\n        ],\n        \"semantic_type\": \"\",\n        \"description\": \"\"\n      }\n    },\n    {\n      \"column\": \"Poor R Progression\",\n      \"properties\": {\n        \"dtype\": \"category\",\n        \"num_unique_values\": 1,\n        \"samples\": [\n          \"N\"\n        ],\n        \"semantic_type\": \"\",\n        \"description\": \"\"\n      }\n    },\n    {\n      \"column\": \"FBS\",\n      \"properties\": {\n        \"dtype\": \"number\",\n        \"std\": 10,\n        \"min\": 78,\n        \"max\": 104,\n        \"num_unique_values\": 5,\n        \"samples\": [\n          80\n        ],\n        \"semantic_type\": \"\",\n        \"description\": \"\"\n      }\n    }\n  ]\n}",
       "type": "dataframe"
      },
      "text/html": [
       "\n",
       "  <div id=\"df-e02df997-56dc-431a-b86e-a8ec09a55e7e\" class=\"colab-df-container\">\n",
       "    <div>\n",
       "<style scoped>\n",
       "    .dataframe tbody tr th:only-of-type {\n",
       "        vertical-align: middle;\n",
       "    }\n",
       "\n",
       "    .dataframe tbody tr th {\n",
       "        vertical-align: top;\n",
       "    }\n",
       "\n",
       "    .dataframe thead th {\n",
       "        text-align: right;\n",
       "    }\n",
       "</style>\n",
       "<table border=\"1\" class=\"dataframe\">\n",
       "  <thead>\n",
       "    <tr style=\"text-align: right;\">\n",
       "      <th></th>\n",
       "      <th>Obesity</th>\n",
       "      <th>CRF</th>\n",
       "      <th>CVA</th>\n",
       "      <th>Airway disease</th>\n",
       "      <th>Thyroid Disease</th>\n",
       "      <th>CHF</th>\n",
       "      <th>DLP</th>\n",
       "      <th>Weak Peripheral Pulse</th>\n",
       "      <th>Lung rales</th>\n",
       "      <th>Systolic Murmur</th>\n",
       "      <th>Diastolic Murmur</th>\n",
       "      <th>Dyspnea</th>\n",
       "      <th>Atypical</th>\n",
       "      <th>Nonanginal</th>\n",
       "      <th>Exertional CP</th>\n",
       "      <th>LowTH Ang</th>\n",
       "      <th>LVH</th>\n",
       "      <th>Poor R Progression</th>\n",
       "      <th>FBS</th>\n",
       "    </tr>\n",
       "  </thead>\n",
       "  <tbody>\n",
       "    <tr>\n",
       "      <th>0</th>\n",
       "      <td>Y</td>\n",
       "      <td>N</td>\n",
       "      <td>N</td>\n",
       "      <td>N</td>\n",
       "      <td>N</td>\n",
       "      <td>N</td>\n",
       "      <td>Y</td>\n",
       "      <td>N</td>\n",
       "      <td>N</td>\n",
       "      <td>N</td>\n",
       "      <td>N</td>\n",
       "      <td>N</td>\n",
       "      <td>N</td>\n",
       "      <td>N</td>\n",
       "      <td>N</td>\n",
       "      <td>N</td>\n",
       "      <td>N</td>\n",
       "      <td>N</td>\n",
       "      <td>90</td>\n",
       "    </tr>\n",
       "    <tr>\n",
       "      <th>1</th>\n",
       "      <td>Y</td>\n",
       "      <td>N</td>\n",
       "      <td>N</td>\n",
       "      <td>N</td>\n",
       "      <td>N</td>\n",
       "      <td>N</td>\n",
       "      <td>N</td>\n",
       "      <td>N</td>\n",
       "      <td>N</td>\n",
       "      <td>N</td>\n",
       "      <td>N</td>\n",
       "      <td>N</td>\n",
       "      <td>N</td>\n",
       "      <td>N</td>\n",
       "      <td>N</td>\n",
       "      <td>N</td>\n",
       "      <td>N</td>\n",
       "      <td>N</td>\n",
       "      <td>80</td>\n",
       "    </tr>\n",
       "    <tr>\n",
       "      <th>2</th>\n",
       "      <td>N</td>\n",
       "      <td>N</td>\n",
       "      <td>N</td>\n",
       "      <td>N</td>\n",
       "      <td>N</td>\n",
       "      <td>N</td>\n",
       "      <td>N</td>\n",
       "      <td>N</td>\n",
       "      <td>N</td>\n",
       "      <td>N</td>\n",
       "      <td>N</td>\n",
       "      <td>N</td>\n",
       "      <td>N</td>\n",
       "      <td>N</td>\n",
       "      <td>N</td>\n",
       "      <td>N</td>\n",
       "      <td>N</td>\n",
       "      <td>N</td>\n",
       "      <td>85</td>\n",
       "    </tr>\n",
       "    <tr>\n",
       "      <th>3</th>\n",
       "      <td>Y</td>\n",
       "      <td>N</td>\n",
       "      <td>N</td>\n",
       "      <td>N</td>\n",
       "      <td>N</td>\n",
       "      <td>N</td>\n",
       "      <td>N</td>\n",
       "      <td>N</td>\n",
       "      <td>N</td>\n",
       "      <td>N</td>\n",
       "      <td>Y</td>\n",
       "      <td>Y</td>\n",
       "      <td>N</td>\n",
       "      <td>Y</td>\n",
       "      <td>N</td>\n",
       "      <td>N</td>\n",
       "      <td>N</td>\n",
       "      <td>N</td>\n",
       "      <td>78</td>\n",
       "    </tr>\n",
       "    <tr>\n",
       "      <th>4</th>\n",
       "      <td>Y</td>\n",
       "      <td>N</td>\n",
       "      <td>N</td>\n",
       "      <td>N</td>\n",
       "      <td>N</td>\n",
       "      <td>N</td>\n",
       "      <td>N</td>\n",
       "      <td>N</td>\n",
       "      <td>N</td>\n",
       "      <td>Y</td>\n",
       "      <td>N</td>\n",
       "      <td>Y</td>\n",
       "      <td>N</td>\n",
       "      <td>N</td>\n",
       "      <td>N</td>\n",
       "      <td>N</td>\n",
       "      <td>N</td>\n",
       "      <td>N</td>\n",
       "      <td>104</td>\n",
       "    </tr>\n",
       "  </tbody>\n",
       "</table>\n",
       "</div>\n",
       "    <div class=\"colab-df-buttons\">\n",
       "\n",
       "  <div class=\"colab-df-container\">\n",
       "    <button class=\"colab-df-convert\" onclick=\"convertToInteractive('df-e02df997-56dc-431a-b86e-a8ec09a55e7e')\"\n",
       "            title=\"Convert this dataframe to an interactive table.\"\n",
       "            style=\"display:none;\">\n",
       "\n",
       "  <svg xmlns=\"http://www.w3.org/2000/svg\" height=\"24px\" viewBox=\"0 -960 960 960\">\n",
       "    <path d=\"M120-120v-720h720v720H120Zm60-500h600v-160H180v160Zm220 220h160v-160H400v160Zm0 220h160v-160H400v160ZM180-400h160v-160H180v160Zm440 0h160v-160H620v160ZM180-180h160v-160H180v160Zm440 0h160v-160H620v160Z\"/>\n",
       "  </svg>\n",
       "    </button>\n",
       "\n",
       "  <style>\n",
       "    .colab-df-container {\n",
       "      display:flex;\n",
       "      gap: 12px;\n",
       "    }\n",
       "\n",
       "    .colab-df-convert {\n",
       "      background-color: #E8F0FE;\n",
       "      border: none;\n",
       "      border-radius: 50%;\n",
       "      cursor: pointer;\n",
       "      display: none;\n",
       "      fill: #1967D2;\n",
       "      height: 32px;\n",
       "      padding: 0 0 0 0;\n",
       "      width: 32px;\n",
       "    }\n",
       "\n",
       "    .colab-df-convert:hover {\n",
       "      background-color: #E2EBFA;\n",
       "      box-shadow: 0px 1px 2px rgba(60, 64, 67, 0.3), 0px 1px 3px 1px rgba(60, 64, 67, 0.15);\n",
       "      fill: #174EA6;\n",
       "    }\n",
       "\n",
       "    .colab-df-buttons div {\n",
       "      margin-bottom: 4px;\n",
       "    }\n",
       "\n",
       "    [theme=dark] .colab-df-convert {\n",
       "      background-color: #3B4455;\n",
       "      fill: #D2E3FC;\n",
       "    }\n",
       "\n",
       "    [theme=dark] .colab-df-convert:hover {\n",
       "      background-color: #434B5C;\n",
       "      box-shadow: 0px 1px 3px 1px rgba(0, 0, 0, 0.15);\n",
       "      filter: drop-shadow(0px 1px 2px rgba(0, 0, 0, 0.3));\n",
       "      fill: #FFFFFF;\n",
       "    }\n",
       "  </style>\n",
       "\n",
       "    <script>\n",
       "      const buttonEl =\n",
       "        document.querySelector('#df-e02df997-56dc-431a-b86e-a8ec09a55e7e button.colab-df-convert');\n",
       "      buttonEl.style.display =\n",
       "        google.colab.kernel.accessAllowed ? 'block' : 'none';\n",
       "\n",
       "      async function convertToInteractive(key) {\n",
       "        const element = document.querySelector('#df-e02df997-56dc-431a-b86e-a8ec09a55e7e');\n",
       "        const dataTable =\n",
       "          await google.colab.kernel.invokeFunction('convertToInteractive',\n",
       "                                                    [key], {});\n",
       "        if (!dataTable) return;\n",
       "\n",
       "        const docLinkHtml = 'Like what you see? Visit the ' +\n",
       "          '<a target=\"_blank\" href=https://colab.research.google.com/notebooks/data_table.ipynb>data table notebook</a>'\n",
       "          + ' to learn more about interactive tables.';\n",
       "        element.innerHTML = '';\n",
       "        dataTable['output_type'] = 'display_data';\n",
       "        await google.colab.output.renderOutput(dataTable, element);\n",
       "        const docLink = document.createElement('div');\n",
       "        docLink.innerHTML = docLinkHtml;\n",
       "        element.appendChild(docLink);\n",
       "      }\n",
       "    </script>\n",
       "  </div>\n",
       "\n",
       "\n",
       "<div id=\"df-1778dc5b-508f-4a84-a3ca-e7c6f6911009\">\n",
       "  <button class=\"colab-df-quickchart\" onclick=\"quickchart('df-1778dc5b-508f-4a84-a3ca-e7c6f6911009')\"\n",
       "            title=\"Suggest charts\"\n",
       "            style=\"display:none;\">\n",
       "\n",
       "<svg xmlns=\"http://www.w3.org/2000/svg\" height=\"24px\"viewBox=\"0 0 24 24\"\n",
       "     width=\"24px\">\n",
       "    <g>\n",
       "        <path d=\"M19 3H5c-1.1 0-2 .9-2 2v14c0 1.1.9 2 2 2h14c1.1 0 2-.9 2-2V5c0-1.1-.9-2-2-2zM9 17H7v-7h2v7zm4 0h-2V7h2v10zm4 0h-2v-4h2v4z\"/>\n",
       "    </g>\n",
       "</svg>\n",
       "  </button>\n",
       "\n",
       "<style>\n",
       "  .colab-df-quickchart {\n",
       "      --bg-color: #E8F0FE;\n",
       "      --fill-color: #1967D2;\n",
       "      --hover-bg-color: #E2EBFA;\n",
       "      --hover-fill-color: #174EA6;\n",
       "      --disabled-fill-color: #AAA;\n",
       "      --disabled-bg-color: #DDD;\n",
       "  }\n",
       "\n",
       "  [theme=dark] .colab-df-quickchart {\n",
       "      --bg-color: #3B4455;\n",
       "      --fill-color: #D2E3FC;\n",
       "      --hover-bg-color: #434B5C;\n",
       "      --hover-fill-color: #FFFFFF;\n",
       "      --disabled-bg-color: #3B4455;\n",
       "      --disabled-fill-color: #666;\n",
       "  }\n",
       "\n",
       "  .colab-df-quickchart {\n",
       "    background-color: var(--bg-color);\n",
       "    border: none;\n",
       "    border-radius: 50%;\n",
       "    cursor: pointer;\n",
       "    display: none;\n",
       "    fill: var(--fill-color);\n",
       "    height: 32px;\n",
       "    padding: 0;\n",
       "    width: 32px;\n",
       "  }\n",
       "\n",
       "  .colab-df-quickchart:hover {\n",
       "    background-color: var(--hover-bg-color);\n",
       "    box-shadow: 0 1px 2px rgba(60, 64, 67, 0.3), 0 1px 3px 1px rgba(60, 64, 67, 0.15);\n",
       "    fill: var(--button-hover-fill-color);\n",
       "  }\n",
       "\n",
       "  .colab-df-quickchart-complete:disabled,\n",
       "  .colab-df-quickchart-complete:disabled:hover {\n",
       "    background-color: var(--disabled-bg-color);\n",
       "    fill: var(--disabled-fill-color);\n",
       "    box-shadow: none;\n",
       "  }\n",
       "\n",
       "  .colab-df-spinner {\n",
       "    border: 2px solid var(--fill-color);\n",
       "    border-color: transparent;\n",
       "    border-bottom-color: var(--fill-color);\n",
       "    animation:\n",
       "      spin 1s steps(1) infinite;\n",
       "  }\n",
       "\n",
       "  @keyframes spin {\n",
       "    0% {\n",
       "      border-color: transparent;\n",
       "      border-bottom-color: var(--fill-color);\n",
       "      border-left-color: var(--fill-color);\n",
       "    }\n",
       "    20% {\n",
       "      border-color: transparent;\n",
       "      border-left-color: var(--fill-color);\n",
       "      border-top-color: var(--fill-color);\n",
       "    }\n",
       "    30% {\n",
       "      border-color: transparent;\n",
       "      border-left-color: var(--fill-color);\n",
       "      border-top-color: var(--fill-color);\n",
       "      border-right-color: var(--fill-color);\n",
       "    }\n",
       "    40% {\n",
       "      border-color: transparent;\n",
       "      border-right-color: var(--fill-color);\n",
       "      border-top-color: var(--fill-color);\n",
       "    }\n",
       "    60% {\n",
       "      border-color: transparent;\n",
       "      border-right-color: var(--fill-color);\n",
       "    }\n",
       "    80% {\n",
       "      border-color: transparent;\n",
       "      border-right-color: var(--fill-color);\n",
       "      border-bottom-color: var(--fill-color);\n",
       "    }\n",
       "    90% {\n",
       "      border-color: transparent;\n",
       "      border-bottom-color: var(--fill-color);\n",
       "    }\n",
       "  }\n",
       "</style>\n",
       "\n",
       "  <script>\n",
       "    async function quickchart(key) {\n",
       "      const quickchartButtonEl =\n",
       "        document.querySelector('#' + key + ' button');\n",
       "      quickchartButtonEl.disabled = true;  // To prevent multiple clicks.\n",
       "      quickchartButtonEl.classList.add('colab-df-spinner');\n",
       "      try {\n",
       "        const charts = await google.colab.kernel.invokeFunction(\n",
       "            'suggestCharts', [key], {});\n",
       "      } catch (error) {\n",
       "        console.error('Error during call to suggestCharts:', error);\n",
       "      }\n",
       "      quickchartButtonEl.classList.remove('colab-df-spinner');\n",
       "      quickchartButtonEl.classList.add('colab-df-quickchart-complete');\n",
       "    }\n",
       "    (() => {\n",
       "      let quickchartButtonEl =\n",
       "        document.querySelector('#df-1778dc5b-508f-4a84-a3ca-e7c6f6911009 button');\n",
       "      quickchartButtonEl.style.display =\n",
       "        google.colab.kernel.accessAllowed ? 'block' : 'none';\n",
       "    })();\n",
       "  </script>\n",
       "</div>\n",
       "\n",
       "    </div>\n",
       "  </div>\n"
      ],
      "text/plain": [
       "  Obesity CRF CVA Airway disease Thyroid Disease CHF DLP  \\\n",
       "0       Y   N   N              N               N   N   Y   \n",
       "1       Y   N   N              N               N   N   N   \n",
       "2       N   N   N              N               N   N   N   \n",
       "3       Y   N   N              N               N   N   N   \n",
       "4       Y   N   N              N               N   N   N   \n",
       "\n",
       "  Weak Peripheral Pulse Lung rales Systolic Murmur Diastolic Murmur Dyspnea  \\\n",
       "0                     N          N               N                N       N   \n",
       "1                     N          N               N                N       N   \n",
       "2                     N          N               N                N       N   \n",
       "3                     N          N               N                Y       Y   \n",
       "4                     N          N               Y                N       Y   \n",
       "\n",
       "  Atypical Nonanginal Exertional CP LowTH Ang LVH Poor R Progression  FBS  \n",
       "0        N          N             N         N   N                  N   90  \n",
       "1        N          N             N         N   N                  N   80  \n",
       "2        N          N             N         N   N                  N   85  \n",
       "3        N          Y             N         N   N                  N   78  \n",
       "4        N          N             N         N   N                  N  104  "
      ]
     },
     "execution_count": 56,
     "metadata": {},
     "output_type": "execute_result"
    }
   ],
   "source": [
    "# Existem várias colunas con dados booleanos no formato Y/N esses dados precisam\n",
    "# ser convertidos para valores inteiros, especificamente 1/0\n",
    "colunas_booleanas = [\"Obesity\",\n",
    "                     \"CRF\",\n",
    "                     \"CVA\",\n",
    "                     \"Airway disease\",\n",
    "                     \"Thyroid Disease\",\n",
    "                     \"CHF\",\n",
    "                     \"DLP\",\n",
    "                     \"Weak Peripheral Pulse\",\n",
    "                     \"Lung rales\",\n",
    "                     \"Systolic Murmur\",\n",
    "                     \"Diastolic Murmur\",\n",
    "                     \"Dyspnea\",\n",
    "                     \"Atypical\",\n",
    "                     \"Nonanginal\",\n",
    "                     \"Exertional CP\",\n",
    "                     \"LowTH Ang\",\n",
    "                     \"LVH\",\n",
    "                     \"Poor R Progression\",\n",
    "                     \"FBS\",\n",
    "                     ]\n",
    "df[colunas_booleanas].head()"
   ]
  },
  {
   "cell_type": "code",
   "execution_count": 57,
   "metadata": {
    "colab": {
     "base_uri": "https://localhost:8080/",
     "height": 241
    },
    "id": "3V3rjD5TohXf",
    "outputId": "fc2abf59-9b62-44db-9bfd-fb8c8eab2322"
   },
   "outputs": [
    {
     "data": {
      "application/vnd.google.colaboratory.intrinsic+json": {
       "summary": "{\n  \"name\": \"df[colunas_booleanas]\",\n  \"rows\": 5,\n  \"fields\": [\n    {\n      \"column\": \"Obesity\",\n      \"properties\": {\n        \"dtype\": \"number\",\n        \"std\": 0,\n        \"min\": 0,\n        \"max\": 1,\n        \"num_unique_values\": 2,\n        \"samples\": [\n          0,\n          1\n        ],\n        \"semantic_type\": \"\",\n        \"description\": \"\"\n      }\n    },\n    {\n      \"column\": \"CRF\",\n      \"properties\": {\n        \"dtype\": \"number\",\n        \"std\": 0,\n        \"min\": 0,\n        \"max\": 0,\n        \"num_unique_values\": 1,\n        \"samples\": [\n          0\n        ],\n        \"semantic_type\": \"\",\n        \"description\": \"\"\n      }\n    },\n    {\n      \"column\": \"CVA\",\n      \"properties\": {\n        \"dtype\": \"number\",\n        \"std\": 0,\n        \"min\": 0,\n        \"max\": 0,\n        \"num_unique_values\": 1,\n        \"samples\": [\n          0\n        ],\n        \"semantic_type\": \"\",\n        \"description\": \"\"\n      }\n    },\n    {\n      \"column\": \"Airway disease\",\n      \"properties\": {\n        \"dtype\": \"number\",\n        \"std\": 0,\n        \"min\": 0,\n        \"max\": 0,\n        \"num_unique_values\": 1,\n        \"samples\": [\n          0\n        ],\n        \"semantic_type\": \"\",\n        \"description\": \"\"\n      }\n    },\n    {\n      \"column\": \"Thyroid Disease\",\n      \"properties\": {\n        \"dtype\": \"number\",\n        \"std\": 0,\n        \"min\": 0,\n        \"max\": 0,\n        \"num_unique_values\": 1,\n        \"samples\": [\n          0\n        ],\n        \"semantic_type\": \"\",\n        \"description\": \"\"\n      }\n    },\n    {\n      \"column\": \"CHF\",\n      \"properties\": {\n        \"dtype\": \"number\",\n        \"std\": 0,\n        \"min\": 0,\n        \"max\": 0,\n        \"num_unique_values\": 1,\n        \"samples\": [\n          0\n        ],\n        \"semantic_type\": \"\",\n        \"description\": \"\"\n      }\n    },\n    {\n      \"column\": \"DLP\",\n      \"properties\": {\n        \"dtype\": \"number\",\n        \"std\": 0,\n        \"min\": 0,\n        \"max\": 1,\n        \"num_unique_values\": 2,\n        \"samples\": [\n          0\n        ],\n        \"semantic_type\": \"\",\n        \"description\": \"\"\n      }\n    },\n    {\n      \"column\": \"Weak Peripheral Pulse\",\n      \"properties\": {\n        \"dtype\": \"number\",\n        \"std\": 0,\n        \"min\": 0,\n        \"max\": 0,\n        \"num_unique_values\": 1,\n        \"samples\": [\n          0\n        ],\n        \"semantic_type\": \"\",\n        \"description\": \"\"\n      }\n    },\n    {\n      \"column\": \"Lung rales\",\n      \"properties\": {\n        \"dtype\": \"number\",\n        \"std\": 0,\n        \"min\": 0,\n        \"max\": 0,\n        \"num_unique_values\": 1,\n        \"samples\": [\n          0\n        ],\n        \"semantic_type\": \"\",\n        \"description\": \"\"\n      }\n    },\n    {\n      \"column\": \"Systolic Murmur\",\n      \"properties\": {\n        \"dtype\": \"number\",\n        \"std\": 0,\n        \"min\": 0,\n        \"max\": 1,\n        \"num_unique_values\": 2,\n        \"samples\": [\n          1\n        ],\n        \"semantic_type\": \"\",\n        \"description\": \"\"\n      }\n    },\n    {\n      \"column\": \"Diastolic Murmur\",\n      \"properties\": {\n        \"dtype\": \"number\",\n        \"std\": 0,\n        \"min\": 0,\n        \"max\": 1,\n        \"num_unique_values\": 2,\n        \"samples\": [\n          1\n        ],\n        \"semantic_type\": \"\",\n        \"description\": \"\"\n      }\n    },\n    {\n      \"column\": \"Dyspnea\",\n      \"properties\": {\n        \"dtype\": \"number\",\n        \"std\": 0,\n        \"min\": 0,\n        \"max\": 1,\n        \"num_unique_values\": 2,\n        \"samples\": [\n          1\n        ],\n        \"semantic_type\": \"\",\n        \"description\": \"\"\n      }\n    },\n    {\n      \"column\": \"Atypical\",\n      \"properties\": {\n        \"dtype\": \"number\",\n        \"std\": 0,\n        \"min\": 0,\n        \"max\": 0,\n        \"num_unique_values\": 1,\n        \"samples\": [\n          0\n        ],\n        \"semantic_type\": \"\",\n        \"description\": \"\"\n      }\n    },\n    {\n      \"column\": \"Nonanginal\",\n      \"properties\": {\n        \"dtype\": \"number\",\n        \"std\": 0,\n        \"min\": 0,\n        \"max\": 1,\n        \"num_unique_values\": 2,\n        \"samples\": [\n          1\n        ],\n        \"semantic_type\": \"\",\n        \"description\": \"\"\n      }\n    },\n    {\n      \"column\": \"Exertional CP\",\n      \"properties\": {\n        \"dtype\": \"number\",\n        \"std\": 0,\n        \"min\": 0,\n        \"max\": 0,\n        \"num_unique_values\": 1,\n        \"samples\": [\n          0\n        ],\n        \"semantic_type\": \"\",\n        \"description\": \"\"\n      }\n    },\n    {\n      \"column\": \"LowTH Ang\",\n      \"properties\": {\n        \"dtype\": \"number\",\n        \"std\": 0,\n        \"min\": 0,\n        \"max\": 0,\n        \"num_unique_values\": 1,\n        \"samples\": [\n          0\n        ],\n        \"semantic_type\": \"\",\n        \"description\": \"\"\n      }\n    },\n    {\n      \"column\": \"LVH\",\n      \"properties\": {\n        \"dtype\": \"number\",\n        \"std\": 0,\n        \"min\": 0,\n        \"max\": 0,\n        \"num_unique_values\": 1,\n        \"samples\": [\n          0\n        ],\n        \"semantic_type\": \"\",\n        \"description\": \"\"\n      }\n    },\n    {\n      \"column\": \"Poor R Progression\",\n      \"properties\": {\n        \"dtype\": \"number\",\n        \"std\": 0,\n        \"min\": 0,\n        \"max\": 0,\n        \"num_unique_values\": 1,\n        \"samples\": [\n          0\n        ],\n        \"semantic_type\": \"\",\n        \"description\": \"\"\n      }\n    },\n    {\n      \"column\": \"FBS\",\n      \"properties\": {\n        \"dtype\": \"number\",\n        \"std\": 10,\n        \"min\": 78,\n        \"max\": 104,\n        \"num_unique_values\": 5,\n        \"samples\": [\n          80\n        ],\n        \"semantic_type\": \"\",\n        \"description\": \"\"\n      }\n    }\n  ]\n}",
       "type": "dataframe"
      },
      "text/html": [
       "\n",
       "  <div id=\"df-772a445d-8c22-4cb4-a475-f7061e17c49d\" class=\"colab-df-container\">\n",
       "    <div>\n",
       "<style scoped>\n",
       "    .dataframe tbody tr th:only-of-type {\n",
       "        vertical-align: middle;\n",
       "    }\n",
       "\n",
       "    .dataframe tbody tr th {\n",
       "        vertical-align: top;\n",
       "    }\n",
       "\n",
       "    .dataframe thead th {\n",
       "        text-align: right;\n",
       "    }\n",
       "</style>\n",
       "<table border=\"1\" class=\"dataframe\">\n",
       "  <thead>\n",
       "    <tr style=\"text-align: right;\">\n",
       "      <th></th>\n",
       "      <th>Obesity</th>\n",
       "      <th>CRF</th>\n",
       "      <th>CVA</th>\n",
       "      <th>Airway disease</th>\n",
       "      <th>Thyroid Disease</th>\n",
       "      <th>CHF</th>\n",
       "      <th>DLP</th>\n",
       "      <th>Weak Peripheral Pulse</th>\n",
       "      <th>Lung rales</th>\n",
       "      <th>Systolic Murmur</th>\n",
       "      <th>Diastolic Murmur</th>\n",
       "      <th>Dyspnea</th>\n",
       "      <th>Atypical</th>\n",
       "      <th>Nonanginal</th>\n",
       "      <th>Exertional CP</th>\n",
       "      <th>LowTH Ang</th>\n",
       "      <th>LVH</th>\n",
       "      <th>Poor R Progression</th>\n",
       "      <th>FBS</th>\n",
       "    </tr>\n",
       "  </thead>\n",
       "  <tbody>\n",
       "    <tr>\n",
       "      <th>0</th>\n",
       "      <td>1</td>\n",
       "      <td>0</td>\n",
       "      <td>0</td>\n",
       "      <td>0</td>\n",
       "      <td>0</td>\n",
       "      <td>0</td>\n",
       "      <td>1</td>\n",
       "      <td>0</td>\n",
       "      <td>0</td>\n",
       "      <td>0</td>\n",
       "      <td>0</td>\n",
       "      <td>0</td>\n",
       "      <td>0</td>\n",
       "      <td>0</td>\n",
       "      <td>0</td>\n",
       "      <td>0</td>\n",
       "      <td>0</td>\n",
       "      <td>0</td>\n",
       "      <td>90</td>\n",
       "    </tr>\n",
       "    <tr>\n",
       "      <th>1</th>\n",
       "      <td>1</td>\n",
       "      <td>0</td>\n",
       "      <td>0</td>\n",
       "      <td>0</td>\n",
       "      <td>0</td>\n",
       "      <td>0</td>\n",
       "      <td>0</td>\n",
       "      <td>0</td>\n",
       "      <td>0</td>\n",
       "      <td>0</td>\n",
       "      <td>0</td>\n",
       "      <td>0</td>\n",
       "      <td>0</td>\n",
       "      <td>0</td>\n",
       "      <td>0</td>\n",
       "      <td>0</td>\n",
       "      <td>0</td>\n",
       "      <td>0</td>\n",
       "      <td>80</td>\n",
       "    </tr>\n",
       "    <tr>\n",
       "      <th>2</th>\n",
       "      <td>0</td>\n",
       "      <td>0</td>\n",
       "      <td>0</td>\n",
       "      <td>0</td>\n",
       "      <td>0</td>\n",
       "      <td>0</td>\n",
       "      <td>0</td>\n",
       "      <td>0</td>\n",
       "      <td>0</td>\n",
       "      <td>0</td>\n",
       "      <td>0</td>\n",
       "      <td>0</td>\n",
       "      <td>0</td>\n",
       "      <td>0</td>\n",
       "      <td>0</td>\n",
       "      <td>0</td>\n",
       "      <td>0</td>\n",
       "      <td>0</td>\n",
       "      <td>85</td>\n",
       "    </tr>\n",
       "    <tr>\n",
       "      <th>3</th>\n",
       "      <td>1</td>\n",
       "      <td>0</td>\n",
       "      <td>0</td>\n",
       "      <td>0</td>\n",
       "      <td>0</td>\n",
       "      <td>0</td>\n",
       "      <td>0</td>\n",
       "      <td>0</td>\n",
       "      <td>0</td>\n",
       "      <td>0</td>\n",
       "      <td>1</td>\n",
       "      <td>1</td>\n",
       "      <td>0</td>\n",
       "      <td>1</td>\n",
       "      <td>0</td>\n",
       "      <td>0</td>\n",
       "      <td>0</td>\n",
       "      <td>0</td>\n",
       "      <td>78</td>\n",
       "    </tr>\n",
       "    <tr>\n",
       "      <th>4</th>\n",
       "      <td>1</td>\n",
       "      <td>0</td>\n",
       "      <td>0</td>\n",
       "      <td>0</td>\n",
       "      <td>0</td>\n",
       "      <td>0</td>\n",
       "      <td>0</td>\n",
       "      <td>0</td>\n",
       "      <td>0</td>\n",
       "      <td>1</td>\n",
       "      <td>0</td>\n",
       "      <td>1</td>\n",
       "      <td>0</td>\n",
       "      <td>0</td>\n",
       "      <td>0</td>\n",
       "      <td>0</td>\n",
       "      <td>0</td>\n",
       "      <td>0</td>\n",
       "      <td>104</td>\n",
       "    </tr>\n",
       "  </tbody>\n",
       "</table>\n",
       "</div>\n",
       "    <div class=\"colab-df-buttons\">\n",
       "\n",
       "  <div class=\"colab-df-container\">\n",
       "    <button class=\"colab-df-convert\" onclick=\"convertToInteractive('df-772a445d-8c22-4cb4-a475-f7061e17c49d')\"\n",
       "            title=\"Convert this dataframe to an interactive table.\"\n",
       "            style=\"display:none;\">\n",
       "\n",
       "  <svg xmlns=\"http://www.w3.org/2000/svg\" height=\"24px\" viewBox=\"0 -960 960 960\">\n",
       "    <path d=\"M120-120v-720h720v720H120Zm60-500h600v-160H180v160Zm220 220h160v-160H400v160Zm0 220h160v-160H400v160ZM180-400h160v-160H180v160Zm440 0h160v-160H620v160ZM180-180h160v-160H180v160Zm440 0h160v-160H620v160Z\"/>\n",
       "  </svg>\n",
       "    </button>\n",
       "\n",
       "  <style>\n",
       "    .colab-df-container {\n",
       "      display:flex;\n",
       "      gap: 12px;\n",
       "    }\n",
       "\n",
       "    .colab-df-convert {\n",
       "      background-color: #E8F0FE;\n",
       "      border: none;\n",
       "      border-radius: 50%;\n",
       "      cursor: pointer;\n",
       "      display: none;\n",
       "      fill: #1967D2;\n",
       "      height: 32px;\n",
       "      padding: 0 0 0 0;\n",
       "      width: 32px;\n",
       "    }\n",
       "\n",
       "    .colab-df-convert:hover {\n",
       "      background-color: #E2EBFA;\n",
       "      box-shadow: 0px 1px 2px rgba(60, 64, 67, 0.3), 0px 1px 3px 1px rgba(60, 64, 67, 0.15);\n",
       "      fill: #174EA6;\n",
       "    }\n",
       "\n",
       "    .colab-df-buttons div {\n",
       "      margin-bottom: 4px;\n",
       "    }\n",
       "\n",
       "    [theme=dark] .colab-df-convert {\n",
       "      background-color: #3B4455;\n",
       "      fill: #D2E3FC;\n",
       "    }\n",
       "\n",
       "    [theme=dark] .colab-df-convert:hover {\n",
       "      background-color: #434B5C;\n",
       "      box-shadow: 0px 1px 3px 1px rgba(0, 0, 0, 0.15);\n",
       "      filter: drop-shadow(0px 1px 2px rgba(0, 0, 0, 0.3));\n",
       "      fill: #FFFFFF;\n",
       "    }\n",
       "  </style>\n",
       "\n",
       "    <script>\n",
       "      const buttonEl =\n",
       "        document.querySelector('#df-772a445d-8c22-4cb4-a475-f7061e17c49d button.colab-df-convert');\n",
       "      buttonEl.style.display =\n",
       "        google.colab.kernel.accessAllowed ? 'block' : 'none';\n",
       "\n",
       "      async function convertToInteractive(key) {\n",
       "        const element = document.querySelector('#df-772a445d-8c22-4cb4-a475-f7061e17c49d');\n",
       "        const dataTable =\n",
       "          await google.colab.kernel.invokeFunction('convertToInteractive',\n",
       "                                                    [key], {});\n",
       "        if (!dataTable) return;\n",
       "\n",
       "        const docLinkHtml = 'Like what you see? Visit the ' +\n",
       "          '<a target=\"_blank\" href=https://colab.research.google.com/notebooks/data_table.ipynb>data table notebook</a>'\n",
       "          + ' to learn more about interactive tables.';\n",
       "        element.innerHTML = '';\n",
       "        dataTable['output_type'] = 'display_data';\n",
       "        await google.colab.output.renderOutput(dataTable, element);\n",
       "        const docLink = document.createElement('div');\n",
       "        docLink.innerHTML = docLinkHtml;\n",
       "        element.appendChild(docLink);\n",
       "      }\n",
       "    </script>\n",
       "  </div>\n",
       "\n",
       "\n",
       "<div id=\"df-82597e8e-3d8b-470f-8f9e-90d0ed63dbc1\">\n",
       "  <button class=\"colab-df-quickchart\" onclick=\"quickchart('df-82597e8e-3d8b-470f-8f9e-90d0ed63dbc1')\"\n",
       "            title=\"Suggest charts\"\n",
       "            style=\"display:none;\">\n",
       "\n",
       "<svg xmlns=\"http://www.w3.org/2000/svg\" height=\"24px\"viewBox=\"0 0 24 24\"\n",
       "     width=\"24px\">\n",
       "    <g>\n",
       "        <path d=\"M19 3H5c-1.1 0-2 .9-2 2v14c0 1.1.9 2 2 2h14c1.1 0 2-.9 2-2V5c0-1.1-.9-2-2-2zM9 17H7v-7h2v7zm4 0h-2V7h2v10zm4 0h-2v-4h2v4z\"/>\n",
       "    </g>\n",
       "</svg>\n",
       "  </button>\n",
       "\n",
       "<style>\n",
       "  .colab-df-quickchart {\n",
       "      --bg-color: #E8F0FE;\n",
       "      --fill-color: #1967D2;\n",
       "      --hover-bg-color: #E2EBFA;\n",
       "      --hover-fill-color: #174EA6;\n",
       "      --disabled-fill-color: #AAA;\n",
       "      --disabled-bg-color: #DDD;\n",
       "  }\n",
       "\n",
       "  [theme=dark] .colab-df-quickchart {\n",
       "      --bg-color: #3B4455;\n",
       "      --fill-color: #D2E3FC;\n",
       "      --hover-bg-color: #434B5C;\n",
       "      --hover-fill-color: #FFFFFF;\n",
       "      --disabled-bg-color: #3B4455;\n",
       "      --disabled-fill-color: #666;\n",
       "  }\n",
       "\n",
       "  .colab-df-quickchart {\n",
       "    background-color: var(--bg-color);\n",
       "    border: none;\n",
       "    border-radius: 50%;\n",
       "    cursor: pointer;\n",
       "    display: none;\n",
       "    fill: var(--fill-color);\n",
       "    height: 32px;\n",
       "    padding: 0;\n",
       "    width: 32px;\n",
       "  }\n",
       "\n",
       "  .colab-df-quickchart:hover {\n",
       "    background-color: var(--hover-bg-color);\n",
       "    box-shadow: 0 1px 2px rgba(60, 64, 67, 0.3), 0 1px 3px 1px rgba(60, 64, 67, 0.15);\n",
       "    fill: var(--button-hover-fill-color);\n",
       "  }\n",
       "\n",
       "  .colab-df-quickchart-complete:disabled,\n",
       "  .colab-df-quickchart-complete:disabled:hover {\n",
       "    background-color: var(--disabled-bg-color);\n",
       "    fill: var(--disabled-fill-color);\n",
       "    box-shadow: none;\n",
       "  }\n",
       "\n",
       "  .colab-df-spinner {\n",
       "    border: 2px solid var(--fill-color);\n",
       "    border-color: transparent;\n",
       "    border-bottom-color: var(--fill-color);\n",
       "    animation:\n",
       "      spin 1s steps(1) infinite;\n",
       "  }\n",
       "\n",
       "  @keyframes spin {\n",
       "    0% {\n",
       "      border-color: transparent;\n",
       "      border-bottom-color: var(--fill-color);\n",
       "      border-left-color: var(--fill-color);\n",
       "    }\n",
       "    20% {\n",
       "      border-color: transparent;\n",
       "      border-left-color: var(--fill-color);\n",
       "      border-top-color: var(--fill-color);\n",
       "    }\n",
       "    30% {\n",
       "      border-color: transparent;\n",
       "      border-left-color: var(--fill-color);\n",
       "      border-top-color: var(--fill-color);\n",
       "      border-right-color: var(--fill-color);\n",
       "    }\n",
       "    40% {\n",
       "      border-color: transparent;\n",
       "      border-right-color: var(--fill-color);\n",
       "      border-top-color: var(--fill-color);\n",
       "    }\n",
       "    60% {\n",
       "      border-color: transparent;\n",
       "      border-right-color: var(--fill-color);\n",
       "    }\n",
       "    80% {\n",
       "      border-color: transparent;\n",
       "      border-right-color: var(--fill-color);\n",
       "      border-bottom-color: var(--fill-color);\n",
       "    }\n",
       "    90% {\n",
       "      border-color: transparent;\n",
       "      border-bottom-color: var(--fill-color);\n",
       "    }\n",
       "  }\n",
       "</style>\n",
       "\n",
       "  <script>\n",
       "    async function quickchart(key) {\n",
       "      const quickchartButtonEl =\n",
       "        document.querySelector('#' + key + ' button');\n",
       "      quickchartButtonEl.disabled = true;  // To prevent multiple clicks.\n",
       "      quickchartButtonEl.classList.add('colab-df-spinner');\n",
       "      try {\n",
       "        const charts = await google.colab.kernel.invokeFunction(\n",
       "            'suggestCharts', [key], {});\n",
       "      } catch (error) {\n",
       "        console.error('Error during call to suggestCharts:', error);\n",
       "      }\n",
       "      quickchartButtonEl.classList.remove('colab-df-spinner');\n",
       "      quickchartButtonEl.classList.add('colab-df-quickchart-complete');\n",
       "    }\n",
       "    (() => {\n",
       "      let quickchartButtonEl =\n",
       "        document.querySelector('#df-82597e8e-3d8b-470f-8f9e-90d0ed63dbc1 button');\n",
       "      quickchartButtonEl.style.display =\n",
       "        google.colab.kernel.accessAllowed ? 'block' : 'none';\n",
       "    })();\n",
       "  </script>\n",
       "</div>\n",
       "\n",
       "    </div>\n",
       "  </div>\n"
      ],
      "text/plain": [
       "   Obesity  CRF  CVA  Airway disease  Thyroid Disease  CHF  DLP  \\\n",
       "0        1    0    0               0                0    0    1   \n",
       "1        1    0    0               0                0    0    0   \n",
       "2        0    0    0               0                0    0    0   \n",
       "3        1    0    0               0                0    0    0   \n",
       "4        1    0    0               0                0    0    0   \n",
       "\n",
       "   Weak Peripheral Pulse  Lung rales  Systolic Murmur  Diastolic Murmur  \\\n",
       "0                      0           0                0                 0   \n",
       "1                      0           0                0                 0   \n",
       "2                      0           0                0                 0   \n",
       "3                      0           0                0                 1   \n",
       "4                      0           0                1                 0   \n",
       "\n",
       "   Dyspnea  Atypical  Nonanginal  Exertional CP  LowTH Ang  LVH  \\\n",
       "0        0         0           0              0          0    0   \n",
       "1        0         0           0              0          0    0   \n",
       "2        0         0           0              0          0    0   \n",
       "3        1         0           1              0          0    0   \n",
       "4        1         0           0              0          0    0   \n",
       "\n",
       "   Poor R Progression  FBS  \n",
       "0                   0   90  \n",
       "1                   0   80  \n",
       "2                   0   85  \n",
       "3                   0   78  \n",
       "4                   0  104  "
      ]
     },
     "execution_count": 57,
     "metadata": {},
     "output_type": "execute_result"
    }
   ],
   "source": [
    "df[colunas_booleanas] = df[colunas_booleanas].replace([\"Y\", \"N\"],[1, 0])\n",
    "df[colunas_booleanas].head()"
   ]
  },
  {
   "cell_type": "code",
   "execution_count": 58,
   "metadata": {
    "colab": {
     "base_uri": "https://localhost:8080/",
     "height": 235
    },
    "id": "GfH-qmYGpYHB",
    "outputId": "75eb11c3-9720-4c65-c564-0b2711984718"
   },
   "outputs": [
    {
     "data": {
      "application/vnd.google.colaboratory.intrinsic+json": {
       "type": "dataframe",
       "variable_name": "df"
      },
      "text/html": [
       "\n",
       "  <div id=\"df-e6446fe9-2779-47cd-a431-fd6504a13512\" class=\"colab-df-container\">\n",
       "    <div>\n",
       "<style scoped>\n",
       "    .dataframe tbody tr th:only-of-type {\n",
       "        vertical-align: middle;\n",
       "    }\n",
       "\n",
       "    .dataframe tbody tr th {\n",
       "        vertical-align: top;\n",
       "    }\n",
       "\n",
       "    .dataframe thead th {\n",
       "        text-align: right;\n",
       "    }\n",
       "</style>\n",
       "<table border=\"1\" class=\"dataframe\">\n",
       "  <thead>\n",
       "    <tr style=\"text-align: right;\">\n",
       "      <th></th>\n",
       "      <th>Age</th>\n",
       "      <th>Weight</th>\n",
       "      <th>Length</th>\n",
       "      <th>Sex</th>\n",
       "      <th>BMI</th>\n",
       "      <th>DM</th>\n",
       "      <th>HTN</th>\n",
       "      <th>Current Smoker</th>\n",
       "      <th>EX-Smoker</th>\n",
       "      <th>FH</th>\n",
       "      <th>...</th>\n",
       "      <th>K</th>\n",
       "      <th>Na</th>\n",
       "      <th>WBC</th>\n",
       "      <th>Lymph</th>\n",
       "      <th>Neut</th>\n",
       "      <th>PLT</th>\n",
       "      <th>EF-TTE</th>\n",
       "      <th>Region RWMA</th>\n",
       "      <th>VHD</th>\n",
       "      <th>Cath</th>\n",
       "    </tr>\n",
       "  </thead>\n",
       "  <tbody>\n",
       "    <tr>\n",
       "      <th>0</th>\n",
       "      <td>53</td>\n",
       "      <td>90</td>\n",
       "      <td>175</td>\n",
       "      <td>0</td>\n",
       "      <td>29.387755</td>\n",
       "      <td>0</td>\n",
       "      <td>1</td>\n",
       "      <td>1</td>\n",
       "      <td>0</td>\n",
       "      <td>0</td>\n",
       "      <td>...</td>\n",
       "      <td>4.7</td>\n",
       "      <td>141</td>\n",
       "      <td>5700</td>\n",
       "      <td>39</td>\n",
       "      <td>52</td>\n",
       "      <td>261</td>\n",
       "      <td>50</td>\n",
       "      <td>0</td>\n",
       "      <td>0</td>\n",
       "      <td>1</td>\n",
       "    </tr>\n",
       "    <tr>\n",
       "      <th>1</th>\n",
       "      <td>67</td>\n",
       "      <td>70</td>\n",
       "      <td>157</td>\n",
       "      <td>1</td>\n",
       "      <td>28.398718</td>\n",
       "      <td>0</td>\n",
       "      <td>1</td>\n",
       "      <td>0</td>\n",
       "      <td>0</td>\n",
       "      <td>0</td>\n",
       "      <td>...</td>\n",
       "      <td>4.7</td>\n",
       "      <td>156</td>\n",
       "      <td>7700</td>\n",
       "      <td>38</td>\n",
       "      <td>55</td>\n",
       "      <td>165</td>\n",
       "      <td>40</td>\n",
       "      <td>4</td>\n",
       "      <td>0</td>\n",
       "      <td>1</td>\n",
       "    </tr>\n",
       "    <tr>\n",
       "      <th>2</th>\n",
       "      <td>54</td>\n",
       "      <td>54</td>\n",
       "      <td>164</td>\n",
       "      <td>0</td>\n",
       "      <td>20.077335</td>\n",
       "      <td>0</td>\n",
       "      <td>0</td>\n",
       "      <td>1</td>\n",
       "      <td>0</td>\n",
       "      <td>0</td>\n",
       "      <td>...</td>\n",
       "      <td>4.7</td>\n",
       "      <td>139</td>\n",
       "      <td>7400</td>\n",
       "      <td>38</td>\n",
       "      <td>60</td>\n",
       "      <td>230</td>\n",
       "      <td>40</td>\n",
       "      <td>2</td>\n",
       "      <td>1</td>\n",
       "      <td>1</td>\n",
       "    </tr>\n",
       "    <tr>\n",
       "      <th>3</th>\n",
       "      <td>66</td>\n",
       "      <td>67</td>\n",
       "      <td>158</td>\n",
       "      <td>1</td>\n",
       "      <td>26.838648</td>\n",
       "      <td>0</td>\n",
       "      <td>1</td>\n",
       "      <td>0</td>\n",
       "      <td>0</td>\n",
       "      <td>0</td>\n",
       "      <td>...</td>\n",
       "      <td>4.4</td>\n",
       "      <td>142</td>\n",
       "      <td>13000</td>\n",
       "      <td>18</td>\n",
       "      <td>72</td>\n",
       "      <td>742</td>\n",
       "      <td>55</td>\n",
       "      <td>0</td>\n",
       "      <td>3</td>\n",
       "      <td>0</td>\n",
       "    </tr>\n",
       "    <tr>\n",
       "      <th>4</th>\n",
       "      <td>50</td>\n",
       "      <td>87</td>\n",
       "      <td>153</td>\n",
       "      <td>1</td>\n",
       "      <td>37.165193</td>\n",
       "      <td>0</td>\n",
       "      <td>1</td>\n",
       "      <td>0</td>\n",
       "      <td>0</td>\n",
       "      <td>0</td>\n",
       "      <td>...</td>\n",
       "      <td>4.0</td>\n",
       "      <td>140</td>\n",
       "      <td>9200</td>\n",
       "      <td>55</td>\n",
       "      <td>39</td>\n",
       "      <td>274</td>\n",
       "      <td>50</td>\n",
       "      <td>0</td>\n",
       "      <td>3</td>\n",
       "      <td>0</td>\n",
       "    </tr>\n",
       "  </tbody>\n",
       "</table>\n",
       "<p>5 rows × 55 columns</p>\n",
       "</div>\n",
       "    <div class=\"colab-df-buttons\">\n",
       "\n",
       "  <div class=\"colab-df-container\">\n",
       "    <button class=\"colab-df-convert\" onclick=\"convertToInteractive('df-e6446fe9-2779-47cd-a431-fd6504a13512')\"\n",
       "            title=\"Convert this dataframe to an interactive table.\"\n",
       "            style=\"display:none;\">\n",
       "\n",
       "  <svg xmlns=\"http://www.w3.org/2000/svg\" height=\"24px\" viewBox=\"0 -960 960 960\">\n",
       "    <path d=\"M120-120v-720h720v720H120Zm60-500h600v-160H180v160Zm220 220h160v-160H400v160Zm0 220h160v-160H400v160ZM180-400h160v-160H180v160Zm440 0h160v-160H620v160ZM180-180h160v-160H180v160Zm440 0h160v-160H620v160Z\"/>\n",
       "  </svg>\n",
       "    </button>\n",
       "\n",
       "  <style>\n",
       "    .colab-df-container {\n",
       "      display:flex;\n",
       "      gap: 12px;\n",
       "    }\n",
       "\n",
       "    .colab-df-convert {\n",
       "      background-color: #E8F0FE;\n",
       "      border: none;\n",
       "      border-radius: 50%;\n",
       "      cursor: pointer;\n",
       "      display: none;\n",
       "      fill: #1967D2;\n",
       "      height: 32px;\n",
       "      padding: 0 0 0 0;\n",
       "      width: 32px;\n",
       "    }\n",
       "\n",
       "    .colab-df-convert:hover {\n",
       "      background-color: #E2EBFA;\n",
       "      box-shadow: 0px 1px 2px rgba(60, 64, 67, 0.3), 0px 1px 3px 1px rgba(60, 64, 67, 0.15);\n",
       "      fill: #174EA6;\n",
       "    }\n",
       "\n",
       "    .colab-df-buttons div {\n",
       "      margin-bottom: 4px;\n",
       "    }\n",
       "\n",
       "    [theme=dark] .colab-df-convert {\n",
       "      background-color: #3B4455;\n",
       "      fill: #D2E3FC;\n",
       "    }\n",
       "\n",
       "    [theme=dark] .colab-df-convert:hover {\n",
       "      background-color: #434B5C;\n",
       "      box-shadow: 0px 1px 3px 1px rgba(0, 0, 0, 0.15);\n",
       "      filter: drop-shadow(0px 1px 2px rgba(0, 0, 0, 0.3));\n",
       "      fill: #FFFFFF;\n",
       "    }\n",
       "  </style>\n",
       "\n",
       "    <script>\n",
       "      const buttonEl =\n",
       "        document.querySelector('#df-e6446fe9-2779-47cd-a431-fd6504a13512 button.colab-df-convert');\n",
       "      buttonEl.style.display =\n",
       "        google.colab.kernel.accessAllowed ? 'block' : 'none';\n",
       "\n",
       "      async function convertToInteractive(key) {\n",
       "        const element = document.querySelector('#df-e6446fe9-2779-47cd-a431-fd6504a13512');\n",
       "        const dataTable =\n",
       "          await google.colab.kernel.invokeFunction('convertToInteractive',\n",
       "                                                    [key], {});\n",
       "        if (!dataTable) return;\n",
       "\n",
       "        const docLinkHtml = 'Like what you see? Visit the ' +\n",
       "          '<a target=\"_blank\" href=https://colab.research.google.com/notebooks/data_table.ipynb>data table notebook</a>'\n",
       "          + ' to learn more about interactive tables.';\n",
       "        element.innerHTML = '';\n",
       "        dataTable['output_type'] = 'display_data';\n",
       "        await google.colab.output.renderOutput(dataTable, element);\n",
       "        const docLink = document.createElement('div');\n",
       "        docLink.innerHTML = docLinkHtml;\n",
       "        element.appendChild(docLink);\n",
       "      }\n",
       "    </script>\n",
       "  </div>\n",
       "\n",
       "\n",
       "<div id=\"df-375e2166-0024-4c57-a691-c73da3d24fee\">\n",
       "  <button class=\"colab-df-quickchart\" onclick=\"quickchart('df-375e2166-0024-4c57-a691-c73da3d24fee')\"\n",
       "            title=\"Suggest charts\"\n",
       "            style=\"display:none;\">\n",
       "\n",
       "<svg xmlns=\"http://www.w3.org/2000/svg\" height=\"24px\"viewBox=\"0 0 24 24\"\n",
       "     width=\"24px\">\n",
       "    <g>\n",
       "        <path d=\"M19 3H5c-1.1 0-2 .9-2 2v14c0 1.1.9 2 2 2h14c1.1 0 2-.9 2-2V5c0-1.1-.9-2-2-2zM9 17H7v-7h2v7zm4 0h-2V7h2v10zm4 0h-2v-4h2v4z\"/>\n",
       "    </g>\n",
       "</svg>\n",
       "  </button>\n",
       "\n",
       "<style>\n",
       "  .colab-df-quickchart {\n",
       "      --bg-color: #E8F0FE;\n",
       "      --fill-color: #1967D2;\n",
       "      --hover-bg-color: #E2EBFA;\n",
       "      --hover-fill-color: #174EA6;\n",
       "      --disabled-fill-color: #AAA;\n",
       "      --disabled-bg-color: #DDD;\n",
       "  }\n",
       "\n",
       "  [theme=dark] .colab-df-quickchart {\n",
       "      --bg-color: #3B4455;\n",
       "      --fill-color: #D2E3FC;\n",
       "      --hover-bg-color: #434B5C;\n",
       "      --hover-fill-color: #FFFFFF;\n",
       "      --disabled-bg-color: #3B4455;\n",
       "      --disabled-fill-color: #666;\n",
       "  }\n",
       "\n",
       "  .colab-df-quickchart {\n",
       "    background-color: var(--bg-color);\n",
       "    border: none;\n",
       "    border-radius: 50%;\n",
       "    cursor: pointer;\n",
       "    display: none;\n",
       "    fill: var(--fill-color);\n",
       "    height: 32px;\n",
       "    padding: 0;\n",
       "    width: 32px;\n",
       "  }\n",
       "\n",
       "  .colab-df-quickchart:hover {\n",
       "    background-color: var(--hover-bg-color);\n",
       "    box-shadow: 0 1px 2px rgba(60, 64, 67, 0.3), 0 1px 3px 1px rgba(60, 64, 67, 0.15);\n",
       "    fill: var(--button-hover-fill-color);\n",
       "  }\n",
       "\n",
       "  .colab-df-quickchart-complete:disabled,\n",
       "  .colab-df-quickchart-complete:disabled:hover {\n",
       "    background-color: var(--disabled-bg-color);\n",
       "    fill: var(--disabled-fill-color);\n",
       "    box-shadow: none;\n",
       "  }\n",
       "\n",
       "  .colab-df-spinner {\n",
       "    border: 2px solid var(--fill-color);\n",
       "    border-color: transparent;\n",
       "    border-bottom-color: var(--fill-color);\n",
       "    animation:\n",
       "      spin 1s steps(1) infinite;\n",
       "  }\n",
       "\n",
       "  @keyframes spin {\n",
       "    0% {\n",
       "      border-color: transparent;\n",
       "      border-bottom-color: var(--fill-color);\n",
       "      border-left-color: var(--fill-color);\n",
       "    }\n",
       "    20% {\n",
       "      border-color: transparent;\n",
       "      border-left-color: var(--fill-color);\n",
       "      border-top-color: var(--fill-color);\n",
       "    }\n",
       "    30% {\n",
       "      border-color: transparent;\n",
       "      border-left-color: var(--fill-color);\n",
       "      border-top-color: var(--fill-color);\n",
       "      border-right-color: var(--fill-color);\n",
       "    }\n",
       "    40% {\n",
       "      border-color: transparent;\n",
       "      border-right-color: var(--fill-color);\n",
       "      border-top-color: var(--fill-color);\n",
       "    }\n",
       "    60% {\n",
       "      border-color: transparent;\n",
       "      border-right-color: var(--fill-color);\n",
       "    }\n",
       "    80% {\n",
       "      border-color: transparent;\n",
       "      border-right-color: var(--fill-color);\n",
       "      border-bottom-color: var(--fill-color);\n",
       "    }\n",
       "    90% {\n",
       "      border-color: transparent;\n",
       "      border-bottom-color: var(--fill-color);\n",
       "    }\n",
       "  }\n",
       "</style>\n",
       "\n",
       "  <script>\n",
       "    async function quickchart(key) {\n",
       "      const quickchartButtonEl =\n",
       "        document.querySelector('#' + key + ' button');\n",
       "      quickchartButtonEl.disabled = true;  // To prevent multiple clicks.\n",
       "      quickchartButtonEl.classList.add('colab-df-spinner');\n",
       "      try {\n",
       "        const charts = await google.colab.kernel.invokeFunction(\n",
       "            'suggestCharts', [key], {});\n",
       "      } catch (error) {\n",
       "        console.error('Error during call to suggestCharts:', error);\n",
       "      }\n",
       "      quickchartButtonEl.classList.remove('colab-df-spinner');\n",
       "      quickchartButtonEl.classList.add('colab-df-quickchart-complete');\n",
       "    }\n",
       "    (() => {\n",
       "      let quickchartButtonEl =\n",
       "        document.querySelector('#df-375e2166-0024-4c57-a691-c73da3d24fee button');\n",
       "      quickchartButtonEl.style.display =\n",
       "        google.colab.kernel.accessAllowed ? 'block' : 'none';\n",
       "    })();\n",
       "  </script>\n",
       "</div>\n",
       "\n",
       "    </div>\n",
       "  </div>\n"
      ],
      "text/plain": [
       "   Age  Weight  Length  Sex        BMI  DM  HTN  Current Smoker  EX-Smoker  \\\n",
       "0   53      90     175    0  29.387755   0    1               1          0   \n",
       "1   67      70     157    1  28.398718   0    1               0          0   \n",
       "2   54      54     164    0  20.077335   0    0               1          0   \n",
       "3   66      67     158    1  26.838648   0    1               0          0   \n",
       "4   50      87     153    1  37.165193   0    1               0          0   \n",
       "\n",
       "   FH  ...    K   Na    WBC  Lymph  Neut  PLT  EF-TTE  Region RWMA  VHD  Cath  \n",
       "0   0  ...  4.7  141   5700     39    52  261      50            0    0     1  \n",
       "1   0  ...  4.7  156   7700     38    55  165      40            4    0     1  \n",
       "2   0  ...  4.7  139   7400     38    60  230      40            2    1     1  \n",
       "3   0  ...  4.4  142  13000     18    72  742      55            0    3     0  \n",
       "4   0  ...  4.0  140   9200     55    39  274      50            0    3     0  \n",
       "\n",
       "[5 rows x 55 columns]"
      ]
     },
     "execution_count": 58,
     "metadata": {},
     "output_type": "execute_result"
    }
   ],
   "source": [
    "# A coluna \"Sex\", possui dados \"Male\" e \"Fmale\", que serão substituídos por\n",
    "# 0 e 1\n",
    "df[\"Sex\"] = df[\"Sex\"].replace([\"Male\", \"Fmale\"],[0, 1])\n",
    "# A coluna \"VHD\", possui dados \"N\", \"mild\", \"Moderate\" e \"Severe\", que possuem\n",
    "# uma ideia de sequencia e, por isso serão substituídos respectivamente por:\n",
    "# 0, 1, 2 e 3\n",
    "df[\"VHD\"] = df[\"VHD\"].replace([\"N\", \"mild\", \"Moderate\", \"Severe\"],[0, 1, 2, 3])\n",
    "# A coluna \"Cath\", possui dados \"Normal\" e \"Cad\", que serão substuídos por 0 e 1\n",
    "# respectivamente\n",
    "df[\"Cath\"] = df[\"Cath\"].replace([\"Normal\", \"Cad\"],[0, 1])\n",
    "df.head()"
   ]
  },
  {
   "cell_type": "code",
   "execution_count": 59,
   "metadata": {
    "colab": {
     "base_uri": "https://localhost:8080/"
    },
    "id": "Qwqbr80xdUDy",
    "outputId": "c3c95b76-2816-4a39-ed72-32ffcfe2a0d0"
   },
   "outputs": [
    {
     "name": "stdout",
     "output_type": "stream",
     "text": [
      "<class 'pandas.core.frame.DataFrame'>\n",
      "RangeIndex: 303 entries, 0 to 302\n",
      "Data columns (total 55 columns):\n",
      " #   Column                 Non-Null Count  Dtype  \n",
      "---  ------                 --------------  -----  \n",
      " 0   Age                    303 non-null    int64  \n",
      " 1   Weight                 303 non-null    int64  \n",
      " 2   Length                 303 non-null    int64  \n",
      " 3   Sex                    303 non-null    int64  \n",
      " 4   BMI                    303 non-null    float64\n",
      " 5   DM                     303 non-null    int64  \n",
      " 6   HTN                    303 non-null    int64  \n",
      " 7   Current Smoker         303 non-null    int64  \n",
      " 8   EX-Smoker              303 non-null    int64  \n",
      " 9   FH                     303 non-null    int64  \n",
      " 10  Obesity                303 non-null    int64  \n",
      " 11  CRF                    303 non-null    int64  \n",
      " 12  CVA                    303 non-null    int64  \n",
      " 13  Airway disease         303 non-null    int64  \n",
      " 14  Thyroid Disease        303 non-null    int64  \n",
      " 15  CHF                    303 non-null    int64  \n",
      " 16  DLP                    303 non-null    int64  \n",
      " 17  BP                     303 non-null    int64  \n",
      " 18  PR                     303 non-null    int64  \n",
      " 19  Edema                  303 non-null    int64  \n",
      " 20  Weak Peripheral Pulse  303 non-null    int64  \n",
      " 21  Lung rales             303 non-null    int64  \n",
      " 22  Systolic Murmur        303 non-null    int64  \n",
      " 23  Diastolic Murmur       303 non-null    int64  \n",
      " 24  Typical Chest Pain     303 non-null    int64  \n",
      " 25  Dyspnea                303 non-null    int64  \n",
      " 26  Function Class         303 non-null    int64  \n",
      " 27  Atypical               303 non-null    int64  \n",
      " 28  Nonanginal             303 non-null    int64  \n",
      " 29  Exertional CP          303 non-null    int64  \n",
      " 30  LowTH Ang              303 non-null    int64  \n",
      " 31  Q Wave                 303 non-null    int64  \n",
      " 32  St Elevation           303 non-null    int64  \n",
      " 33  St Depression          303 non-null    int64  \n",
      " 34  Tinversion             303 non-null    int64  \n",
      " 35  LVH                    303 non-null    int64  \n",
      " 36  Poor R Progression     303 non-null    int64  \n",
      " 37  FBS                    303 non-null    int64  \n",
      " 38  CR                     303 non-null    float64\n",
      " 39  TG                     303 non-null    int64  \n",
      " 40  LDL                    303 non-null    int64  \n",
      " 41  HDL                    303 non-null    float64\n",
      " 42  BUN                    303 non-null    int64  \n",
      " 43  ESR                    303 non-null    int64  \n",
      " 44  HB                     303 non-null    float64\n",
      " 45  K                      303 non-null    float64\n",
      " 46  Na                     303 non-null    int64  \n",
      " 47  WBC                    303 non-null    int64  \n",
      " 48  Lymph                  303 non-null    int64  \n",
      " 49  Neut                   303 non-null    int64  \n",
      " 50  PLT                    303 non-null    int64  \n",
      " 51  EF-TTE                 303 non-null    int64  \n",
      " 52  Region RWMA            303 non-null    int64  \n",
      " 53  VHD                    303 non-null    int64  \n",
      " 54  Cath                   303 non-null    int64  \n",
      "dtypes: float64(5), int64(50)\n",
      "memory usage: 130.3 KB\n"
     ]
    }
   ],
   "source": [
    "# Agora é possível observar que todos os dados são numéricos e não nulos\n",
    "df.info()"
   ]
  },
  {
   "cell_type": "markdown",
   "metadata": {
    "id": "t31q9y_oaKRi"
   },
   "source": [
    "## Etapa 1 - Avaliações Iniciais"
   ]
  },
  {
   "cell_type": "markdown",
   "metadata": {
    "id": "IVR6z9Vuv3Kx"
   },
   "source": [
    "Após realizado o pré-processamento, utilizamos o PCA para plotar os nossos dados para termos uma noção da distribuição das amostras."
   ]
  },
  {
   "cell_type": "code",
   "execution_count": 60,
   "metadata": {
    "id": "iWlP2buZy4pb"
   },
   "outputs": [],
   "source": [
    "import numpy as np\n",
    "from sklearn.decomposition import PCA\n",
    "import matplotlib.pyplot as plt"
   ]
  },
  {
   "cell_type": "code",
   "execution_count": 61,
   "metadata": {
    "id": "bpRfKWGD24d2"
   },
   "outputs": [],
   "source": [
    "# Separando a nossa coluna alvo\n",
    "Y = df[\"Cath\"]\n",
    "df.drop(columns = [\"Cath\"], inplace=True)\n",
    "# Apenas renomeando\n",
    "X = df"
   ]
  },
  {
   "cell_type": "code",
   "execution_count": 62,
   "metadata": {
    "colab": {
     "base_uri": "https://localhost:8080/",
     "height": 472
    },
    "id": "Fk491bbEwO0I",
    "outputId": "70654267-f7c5-46d4-8fa1-9853f35d55d2"
   },
   "outputs": [
    {
     "data": {
      "image/png": "[encoded data removed]",
      "text/plain": [
       "<Figure size 640x480 with 1 Axes>"
      ]
     },
     "metadata": {},
     "output_type": "display_data"
    }
   ],
   "source": [
    "# PLOT 2D DOS DADOS\n",
    "\n",
    "pca = PCA(n_components = 2)\n",
    "X_plot = pca.fit_transform(X)\n",
    "X_plot = pd.DataFrame(X_plot)\n",
    "\n",
    "columns = ['x', 'y']\n",
    "\n",
    "X_plot.columns = columns\n",
    "\n",
    "# Plotando\n",
    "fig, ax = plt.subplots()\n",
    "ax.scatter(X_plot[Y==1]['x'], X_plot[Y==1]['y'])\n",
    "ax.scatter(X_plot[Y==0]['x'], X_plot[Y==0]['y'])\n",
    "\n",
    "ax.legend(['CAD', 'Normal'])\n",
    "\n",
    "ax.set_xlabel('Eixo X')\n",
    "ax.set_ylabel('Eixo Y')\n",
    "ax.set_title('Plot 2D dos Dados')\n",
    "\n",
    "fig.show()"
   ]
  },
  {
   "cell_type": "code",
   "execution_count": 63,
   "metadata": {
    "colab": {
     "base_uri": "https://localhost:8080/",
     "height": 675
    },
    "id": "PHnuINS2-sK0",
    "outputId": "1b260d57-3485-41e7-c1cf-e2c1b7cfbea6"
   },
   "outputs": [
    {
     "data": {
      "image/png": "[encoded data removed]",
      "text/plain": [
       "<Figure size 1000x800 with 1 Axes>"
      ]
     },
     "metadata": {},
     "output_type": "display_data"
    }
   ],
   "source": [
    "# PLOT 3D DOS DADOS\n",
    "\n",
    "pca = PCA(n_components = 3)\n",
    "X_plot = pca.fit_transform(X)\n",
    "X_plot = pd.DataFrame(X_plot)\n",
    "\n",
    "columns = ['x', 'y', 'z']\n",
    "\n",
    "X_plot.columns = columns\n",
    "\n",
    "fig = plt.figure(figsize=(10, 8))\n",
    "ax = fig.add_subplot(111, projection='3d')\n",
    "\n",
    "ax.scatter(X_plot[Y==1]['x'], X_plot[Y==1]['y'], X_plot[Y==1]['z'])\n",
    "ax.scatter(X_plot[Y==0]['x'], X_plot[Y==0]['y'], X_plot[Y==0]['z'])\n",
    "\n",
    "ax.set_xlabel('Eixo X')\n",
    "ax.set_ylabel('Eixo Y')\n",
    "ax.set_zlabel('Eixo Z')\n",
    "ax.set_title('Plot 3D dos Dados')\n",
    "\n",
    "ax.legend(['CAD', 'Normal'])\n",
    "\n",
    "plt.show()"
   ]
  },
  {
   "cell_type": "markdown",
   "metadata": {
    "id": "J2DysXrGFfO3"
   },
   "source": [
    "Com base na visualização dos dados, podemos fazer uma análise superficial dos nossos dados de forma a escolher alguns métodos de classificação para começarmos a avaliar. Todavia, é preciso considerar a natureza dos dados que estamos lidando para escolhermos nossa metodologia.\n",
    "\n",
    "Informações clínicas de pacientes, como é o nosso caso, mostram-se dados difíceis de serem obtidos. Portanto, é natural que a quantidade de pacientes na base não seja muito grande. Apesar de ser um problema compreensível, não podemos ignorá-lo na hora de treinar o nosso modelo.\n",
    "\n",
    "Assim, uma decisão que tomamos é a de usar ***Cross Validation*** em todos os métodos nos quais ele for passível. O objetivo é que consigamos analisar o desempenho dos modelos que iremos treinar sem precisar separar uma parte para teste e uma para treino, uma vez que a quantidade de amostras é limitada.\n",
    "\n",
    "Dito isso, os métodos que iremos treinar, assim como a justificativa para tomarmos tais decisões, são:\n",
    "\n",
    "\n",
    "* **Árvore de decisão -** Como estamos lidando com dados de saúde, muitas vezes algumas condições de saúde estão mais relacionadas a ocorrência de uma certa doença do que outras. Por exemplo, no nosso caso, estamos tentando identificar se um paciente ao chegar com dor no peito no hospital está infartando ou não. Apesar de poder ocorrer em pessoas saudáveis, é de conhecimento geral que pessoas com pressão alta, taxas de colesterol elevadas e etc são mais sucetíveis a infartarem. Desse modo, nossa ideia é que a árvore de decisão se beneficiará de tais fatos para conseguir \"montar seus galhos\" de forma mais precisa. Como nosso dataset é pequeno, gostariamos de explorar uma **Random Forest** também caso o desempenho da árvore se mostre promissor.\n",
    "* **Logistic Regression -** Apesar de ser um método mais simples, ele lida bem com um dataset mais reduzido e é conhecido por ter bons resultados quando trata-se de classificar de forma binária, que é o nosso caso, pois ou o paciente tem uma doença cardiovascular ou ele não tem. Assim , é um método que vale a pena ser testado pois tem um indicativo de bons resultados.\n",
    "* **SVM -** Apesar de não ser o primeiro método pensado para o nosso caso, após analisarmos a distribuição dos dados nos plots, principalmente na parte 3D, ponderamos sobre a possibilidade de talvez esse método ser capaz de separar as nossas duas classes visto que, aparentemente, uma delas se encontra mais a esquerda e mais aglomerada que a outra. Isso é apenas uma suposição, mas devido a pequena quantidade de amostras, decidimos investigar também essa possibilidade.\n",
    "\n",
    "\n",
    "\n",
    "Vale ressaltar que apesar da **Árvore de Decisão** não precisa de normalização ou padronização dos dados devido ao funcionamento dos métodos, para o **SVM** e o **Logistic Regression** optamos por realizar a normalização dos dados, pois são métodos sensíveis a amplitude dos valores. Como alguns dados do nosso dataset estão em proporções muito maiores que os demais, a normalização fez-se necessária. A escolha da normalização ao invés da padronização se deve ao fato de **NÃO** tratarmos outliers. Estamos nos baseando no fato de que são todos os dados reais, e de que se já chegaram pacientes com esse estado clínico então nosso modelo precisa ser capaz de lidar com esses \"outliers\" que de fato ocorrem. Como a normalização é mais indicada para lidar com *supostos outliers*, nós a escolhemos.\n",
    "\n",
    "Por último, caso o desempenho dos métodos escolhidos não seja satisfatório, vamos tentar criar um ensemble com os três métodos escolhidos ou com que tiver o melhor desempenho. Avaliaremos essa possibilidade após o treino e avaliação dos nossos primeiros modelos."
   ]
  },
  {
   "cell_type": "code",
   "execution_count": 64,
   "metadata": {
    "id": "t_d1TbXICpVg"
   },
   "outputs": [],
   "source": [
    "from sklearn.model_selection import cross_val_score\n",
    "from sklearn.model_selection import cross_val_predict\n",
    "from sklearn.model_selection import StratifiedKFold\n",
    "from sklearn.model_selection import GridSearchCV\n",
    "from sklearn.preprocessing import StandardScaler\n",
    "from sklearn.metrics import confusion_matrix\n",
    "from sklearn.metrics import ConfusionMatrixDisplay\n",
    "from sklearn.metrics import precision_score, recall_score, f1_score, accuracy_score, balanced_accuracy_score"
   ]
  },
  {
   "cell_type": "code",
   "execution_count": 65,
   "metadata": {
    "id": "achtLobC9Mr7"
   },
   "outputs": [],
   "source": [
    "def showEstimatorMetrics(y, y_pred):\n",
    "\n",
    "    cm = confusion_matrix(y, y_pred)\n",
    "    cm = cm / len(y)\n",
    "    cm_display = ConfusionMatrixDisplay(confusion_matrix=cm, display_labels = [\"Normal\", \"Cad\"])\n",
    "    cm_display.plot()\n",
    "\n",
    "    print(f\"Acuracia: {100 * accuracy_score(y, y_pred):.2f}%\")\n",
    "    print(f\"Acuracia Balanceada: {100 * balanced_accuracy_score(y, y_pred):.2f}%\")\n",
    "    print(f\"Precision: {100 * precision_score(y, y_pred):.2f}%\")\n",
    "    print(f\"Recall: {100 * recall_score(y, y_pred):.2f}%\")\n",
    "    print(f\"F1-score: {100 * f1_score(y, y_pred):.2f}%\")"
   ]
  },
  {
   "cell_type": "markdown",
   "metadata": {
    "id": "0F5AlnC3rSDu"
   },
   "source": [
    "### Árvore de Decisão"
   ]
  },
  {
   "cell_type": "code",
   "execution_count": 66,
   "metadata": {
    "id": "KkSosDs5rRtq"
   },
   "outputs": [],
   "source": [
    "from sklearn.tree import DecisionTreeClassifier"
   ]
  },
  {
   "cell_type": "markdown",
   "metadata": {
    "id": "pSWNpm-u-3NJ"
   },
   "source": [
    "Como o nosso dataset é reduzido, decidimos fazer uma busca exaustiva em busca do melhor parâmetro para a altura da árvore usado o **GridSearch**."
   ]
  },
  {
   "cell_type": "code",
   "execution_count": 67,
   "metadata": {
    "colab": {
     "base_uri": "https://localhost:8080/"
    },
    "id": "DouVzScuD9qS",
    "outputId": "1c5bfef9-ceb9-44de-f5e4-18baff86f960"
   },
   "outputs": [
    {
     "name": "stdout",
     "output_type": "stream",
     "text": [
      "Melhores parâmetros: {'max_depth': 2, 'random_state': 47}\n",
      "Melhor acurácia no cross-validation: 0.8117204301075269\n"
     ]
    }
   ],
   "source": [
    "# Definindo parametros para o GridSearch\n",
    "grid_params = {\n",
    "    'max_depth': [None, 2, 4, 6, 8, 10],\n",
    "    'random_state' : [47]\n",
    "}\n",
    "\n",
    "# Declarando o modelo\n",
    "tree_clf = DecisionTreeClassifier()\n",
    "\n",
    "# Treinando com os parâmetros. Lembra-se que o cross validation está sendo realizado\n",
    "# internamente no GridSearch usando o Cross Validation estratificado\n",
    "grid = GridSearchCV(tree_clf, grid_params, cv=10)\n",
    "grid.fit(X, Y)\n",
    "\n",
    "best_params = grid.best_params_\n",
    "best_score = grid.best_score_\n",
    "\n",
    "print(f\"Melhores parâmetros: {best_params}\")\n",
    "print(f\"Melhor acurácia no cross-validation: {best_score}\")"
   ]
  },
  {
   "cell_type": "code",
   "execution_count": 68,
   "metadata": {
    "colab": {
     "base_uri": "https://localhost:8080/",
     "height": 544
    },
    "id": "MXDjkYTfLaoB",
    "outputId": "2d36735c-190e-4322-f589-8370255fd734"
   },
   "outputs": [
    {
     "name": "stdout",
     "output_type": "stream",
     "text": [
      "Acuracia: 78.22%\n",
      "Acuracia Balanceada: 73.40%\n",
      "Precision: 84.72%\n",
      "Recall: 84.72%\n",
      "F1-score: 84.72%\n"
     ]
    },
    {
     "data": {
      "image/png": "[encoded data removed]",
      "text/plain": [
       "<Figure size 640x480 with 2 Axes>"
      ]
     },
     "metadata": {},
     "output_type": "display_data"
    }
   ],
   "source": [
    "# Redeclarando o modelo com os parâmetros escolhidos\n",
    "tree_clf = DecisionTreeClassifier(max_depth=6, random_state=47)\n",
    "\n",
    "# Especificando detalhes do cross validation\n",
    "skf = StratifiedKFold(n_splits=10, shuffle=True, random_state=47)\n",
    "\n",
    "# Obtendo classes preditas\n",
    "Y_pred = cross_val_predict(tree_clf, X, Y, cv=skf)\n",
    "\n",
    "# Mostrando resultado obtido\n",
    "showEstimatorMetrics(Y, Y_pred)"
   ]
  },
  {
   "cell_type": "markdown",
   "metadata": {
    "id": "BLzdy1HzAXTr"
   },
   "source": [
    "Analisando as métricas e a consequente matriz de confusão já percebemos um problema óbvio no nosso modelo, que é a quantidade alta de falsos negativos para CAD. Em certa de 10% dos casos, o modelo prediz que a pessoa está *saudável* quando, na verdade, ela tem sim uma *doença cardiovascular*. Esse é um número bem ruim se formos interpretar ele como **1 a cada 10 pacientes que apresentam uma doença cardíaca são mandados de volta para casa sem tratamento**. Isso pode se tornar algo como *1 a cada 10 pacientes com doenças cardiovasculares morrem por falta de tratamento* , o que tem um peso muito maior.\n",
    "\n",
    "Portanto, precisamos avaliar novos métodos e buscar formas de aumentar o valor do *Recall*, diminuindo assim o nosso número de falsos negativos."
   ]
  },
  {
   "cell_type": "markdown",
   "metadata": {
    "id": "AEP_miePHnDp"
   },
   "source": [
    "Vamos refazer o nosso treinamento modificando o peso da classe CAD. Nossa esperança é diminuir o número de falsos negativos. Todavia, uma possível consequência é a diminuir o *Precision* do modelo."
   ]
  },
  {
   "cell_type": "code",
   "execution_count": 69,
   "metadata": {
    "colab": {
     "base_uri": "https://localhost:8080/"
    },
    "id": "qC0x81j9LTad",
    "outputId": "d3e7d3c9-17a2-4249-8c4a-07da515f7262"
   },
   "outputs": [
    {
     "name": "stdout",
     "output_type": "stream",
     "text": [
      "Melhores parâmetros: {'class_weight': {0: 1, 1: 10}}\n",
      "Melhor recall no cross-validation: 0.9028138528138528\n"
     ]
    }
   ],
   "source": [
    "# Definindo parametros para o GridSearch\n",
    "grid_params = {\n",
    "    'class_weight' : [{0:1, 1:1}, {0:1, 1:2}, {0:1, 1:3}, {0:1, 1:4}, {0:1, 1:5}, {0:1, 1:6}, {0:1, 1:7}, {0:1, 1:8}, {0:1, 1:9}, {0:1, 1:10}],\n",
    "}\n",
    "\n",
    "# Declarando o modelo\n",
    "tree_clf = DecisionTreeClassifier(max_depth=6, random_state=47)\n",
    "\n",
    "# Treinando com os parâmetros. Lembra-se que o cross validation está sendo realizado\n",
    "# internamente no GridSearch usando o Cross Validation estratificado\n",
    "grid = GridSearchCV(tree_clf, grid_params, cv=10, scoring='recall')\n",
    "grid.fit(X, Y)\n",
    "\n",
    "best_params = grid.best_params_\n",
    "best_score = grid.best_score_\n",
    "\n",
    "print(f\"Melhores parâmetros: {best_params}\")\n",
    "print(f\"Melhor recall no cross-validation: {best_score}\")"
   ]
  },
  {
   "cell_type": "code",
   "execution_count": 70,
   "metadata": {
    "colab": {
     "base_uri": "https://localhost:8080/",
     "height": 541
    },
    "id": "11dD5IS-HnZE",
    "outputId": "c8799fe4-5327-42b1-8f56-9c704372fff7"
   },
   "outputs": [
    {
     "name": "stdout",
     "output_type": "stream",
     "text": [
      "Acuracia: 72.94%\n",
      "Acuracia Balanceada: 61.11%\n",
      "Precision: 76.80%\n",
      "Recall: 88.89%\n",
      "F1-score: 82.40%\n"
     ]
    },
    {
     "data": {
      "image/png": "[encoded data removed]",
      "text/plain": [
       "<Figure size 640x480 with 2 Axes>"
      ]
     },
     "metadata": {},
     "output_type": "display_data"
    }
   ],
   "source": [
    "# Redeclarando o modelo com os parâmetros escolhidos\n",
    "tree_clf = DecisionTreeClassifier(max_depth=6, random_state=47, class_weight={0:1, 1:10})\n",
    "\n",
    "# Especificando detalhes do cross validation\n",
    "skf = StratifiedKFold(n_splits=10, shuffle=True, random_state=47)\n",
    "\n",
    "# Obtendo classes preditas\n",
    "Y_pred = cross_val_predict(tree_clf, X, Y, cv=skf)\n",
    "\n",
    "# Mostrando resultado obtido\n",
    "showEstimatorMetrics(Y, Y_pred)"
   ]
  },
  {
   "cell_type": "markdown",
   "metadata": {
    "id": "gOfllZkaMDs5"
   },
   "source": [
    "Aumentando o peso da classe **CAD**, conseguimos aumentar o *Recall*, ou seja, diminuimos o nosso número de falsos negativos. Mas, ainda assim, o nosso número de falsos negativos é relativamente alto, sendo cerca de 7% das amostras. Além disso, o *Precision* e a acurácia do modelo cairam de forma significativa, o que é um indicativo que estamos indo para o caminho errado.\n",
    "\n",
    "Com base nisso, nossa última tentativa com **Árvore de Decisão** será treinar uma **Random Forest** e avaliar se o *Recall* para esse modelo possui melhores resultados do que os obtidos até agora."
   ]
  },
  {
   "cell_type": "code",
   "execution_count": 71,
   "metadata": {
    "colab": {
     "base_uri": "https://localhost:8080/",
     "height": 17
    },
    "id": "gN-1Krf6Fwcn",
    "outputId": "922343a0-7eb2-4c17-84e5-e19dd215ee50"
   },
   "outputs": [
    {
     "data": {
      "application/javascript": [
       "\n",
       "    async function download(id, filename, size) {\n",
       "      if (!google.colab.kernel.accessAllowed) {\n",
       "        return;\n",
       "      }\n",
       "      const div = document.createElement('div');\n",
       "      const label = document.createElement('label');\n",
       "      label.textContent = `Downloading \"${filename}\": `;\n",
       "      div.appendChild(label);\n",
       "      const progress = document.createElement('progress');\n",
       "      progress.max = size;\n",
       "      div.appendChild(progress);\n",
       "      document.body.appendChild(div);\n",
       "\n",
       "      const buffers = [];\n",
       "      let downloaded = 0;\n",
       "\n",
       "      const channel = await google.colab.kernel.comms.open(id);\n",
       "      // Send a message to notify the kernel that we're ready.\n",
       "      channel.send({})\n",
       "\n",
       "      for await (const message of channel.messages) {\n",
       "        // Send a message to notify the kernel that we're ready.\n",
       "        channel.send({})\n",
       "        if (message.buffers) {\n",
       "          for (const buffer of message.buffers) {\n",
       "            buffers.push(buffer);\n",
       "            downloaded += buffer.byteLength;\n",
       "            progress.value = downloaded;\n",
       "          }\n",
       "        }\n",
       "      }\n",
       "      const blob = new Blob(buffers, {type: 'application/binary'});\n",
       "      const a = document.createElement('a');\n",
       "      a.href = window.URL.createObjectURL(blob);\n",
       "      a.download = filename;\n",
       "      div.appendChild(a);\n",
       "      a.click();\n",
       "      div.remove();\n",
       "    }\n",
       "  "
      ],
      "text/plain": [
       "<IPython.core.display.Javascript object>"
      ]
     },
     "metadata": {},
     "output_type": "display_data"
    },
    {
     "data": {
      "application/javascript": [
       "download(\"download_59ea9c54-8996-48bc-864c-d63bb6a75fac\", \"decision_tree.pdf\", 25217)"
      ],
      "text/plain": [
       "<IPython.core.display.Javascript object>"
      ]
     },
     "metadata": {},
     "output_type": "display_data"
    }
   ],
   "source": [
    "from sklearn.tree import export_graphviz\n",
    "import graphviz\n",
    "from google.colab import files\n",
    "\n",
    "tree_clf.fit(X, Y)\n",
    "dot_data = export_graphviz(tree_clf, out_file=None,\n",
    "                           feature_names=X.columns,\n",
    "#                           class_names=iris.target_names,\n",
    "                           filled=True, rounded=True,\n",
    "                           special_characters=True)\n",
    "graph = graphviz.Source(dot_data)\n",
    "graph.render(\"decision_tree\")  # Salva a árvore em um arquivo\n",
    "graph.view()  # Abre uma visualização da árvore\n",
    "files.download(\"decision_tree.pdf\")"
   ]
  },
  {
   "cell_type": "markdown",
   "metadata": {
    "id": "v_oqxgYOOWBs"
   },
   "source": [
    "#### Random Forest"
   ]
  },
  {
   "cell_type": "code",
   "execution_count": 72,
   "metadata": {
    "id": "q3sLFnM2OZ5z"
   },
   "outputs": [],
   "source": [
    "from sklearn.ensemble import RandomForestClassifier"
   ]
  },
  {
   "cell_type": "code",
   "execution_count": 73,
   "metadata": {
    "colab": {
     "base_uri": "https://localhost:8080/",
     "height": 545
    },
    "id": "ZMC5T4JJRxI6",
    "outputId": "efad9e9c-7db9-40df-b24a-aae6ff68a0b7"
   },
   "outputs": [
    {
     "name": "stdout",
     "output_type": "stream",
     "text": [
      "Acuracia: 72.28%\n",
      "Acuracia Balanceada: 52.75%\n",
      "Precision: 72.45%\n",
      "Recall: 98.61%\n",
      "F1-score: 83.53%\n"
     ]
    },
    {
     "data": {
      "image/png": "[encoded data removed]",
      "text/plain": [
       "<Figure size 640x480 with 2 Axes>"
      ]
     },
     "metadata": {},
     "output_type": "display_data"
    }
   ],
   "source": [
    "# Declarando o modelo com os parâmetros escolhidos anteriormente\n",
    "# Vou deixar o padrão de 100 árvores\n",
    "rand_forest_clf = RandomForestClassifier(max_depth=6, random_state=47, class_weight={0:1, 1:10})\n",
    "\n",
    "# Especificando detalhes do cross validation\n",
    "skf = StratifiedKFold(n_splits=10, shuffle=True, random_state=47)\n",
    "\n",
    "# Obtendo classes preditas\n",
    "Y_pred = cross_val_predict(rand_forest_clf, X, Y, cv=skf)\n",
    "\n",
    "# Mostrando resultado obtido\n",
    "showEstimatorMetrics(Y, Y_pred)"
   ]
  },
  {
   "cell_type": "markdown",
   "metadata": {
    "id": "KTeq7XuOSf-Z"
   },
   "source": [
    "O modelo treinado com **Random Forest** para os parâmetros anteriormente avaliados possui um *Recall* excelente. Todavia, o custo disso é uma baixa acurácia e *Precision*. Além disso, como no nosso dataset as duas classes não são bem distribuídas e a classe desejada tem um maior número de amostras, além de termos dado um maior peso para a mesma, percebemos pela matriz de confusão que o que o nosso modelo está tentando fazer é estimar quase sempre para a classe **CAD**, o que por si só já garante uma acurácia elevada.\n",
    "\n",
    "Contudo, sabemos que da forma que está nosso modelo não deve ser eficiente generalizando no mundo real. Então, o que vamos fazer é retreinar a **Random Forest** mas agora considerando o mesmo peso para as duas classes."
   ]
  },
  {
   "cell_type": "code",
   "execution_count": 74,
   "metadata": {
    "colab": {
     "base_uri": "https://localhost:8080/",
     "height": 541
    },
    "id": "xjCoKdHATxzJ",
    "outputId": "a5c4a2b3-d144-4891-ab3c-ed53188dd5ea"
   },
   "outputs": [
    {
     "name": "stdout",
     "output_type": "stream",
     "text": [
      "Acuracia: 85.48%\n",
      "Acuracia Balanceada: 78.83%\n",
      "Precision: 86.44%\n",
      "Recall: 94.44%\n",
      "F1-score: 90.27%\n"
     ]
    },
    {
     "data": {
      "image/png": "[encoded data removed]",
      "text/plain": [
       "<Figure size 640x480 with 2 Axes>"
      ]
     },
     "metadata": {},
     "output_type": "display_data"
    }
   ],
   "source": [
    "# Declarando o modelo com os parâmetros escolhidos anteriormente\n",
    "# Vou deixar o padrão de 100 árvores\n",
    "rand_forest_clf = RandomForestClassifier(max_depth=6, random_state=47)\n",
    "\n",
    "# Especificando detalhes do cross validation\n",
    "skf = StratifiedKFold(n_splits=10, shuffle=True, random_state=47)\n",
    "\n",
    "# Obtendo classes preditas\n",
    "Y_pred = cross_val_predict(rand_forest_clf, X, Y, cv=skf)\n",
    "\n",
    "# Mostrando resultado obtido\n",
    "showEstimatorMetrics(Y, Y_pred)"
   ]
  },
  {
   "cell_type": "markdown",
   "metadata": {
    "id": "CEn61eaeT8Lb"
   },
   "source": [
    "O resultado agora foi muito melhor! O *Recall* continua com um valor elevado, mas o *Precision* e a acurácia aumentaram. Nosso modelo não está mais tendenciosamente estimando na classe majoritária. Isso é um ótimo indicativo."
   ]
  },
  {
   "cell_type": "markdown",
   "metadata": {
    "id": "_NqE5XHLUg_7"
   },
   "source": [
    "Até o momento, uma **Random Forest** com *max_depth=6* e classes igualmente distribuídas possui o melhor resultado, com uma acurácia de 85.48% e recall de 94.44%."
   ]
  },
  {
   "cell_type": "markdown",
   "metadata": {
    "id": "qp2ID7YOpAFq"
   },
   "source": [
    "### Logistic Regression"
   ]
  },
  {
   "cell_type": "code",
   "execution_count": 75,
   "metadata": {
    "id": "GTHdckBysnow"
   },
   "outputs": [],
   "source": [
    "from sklearn.linear_model import LogisticRegression"
   ]
  },
  {
   "cell_type": "code",
   "execution_count": 76,
   "metadata": {
    "id": "Aa6k7TcguoPB"
   },
   "outputs": [],
   "source": [
    "# Padronização dos dados\n",
    "scaler = StandardScaler()\n",
    "X_padr = scaler.fit_transform(X)"
   ]
  },
  {
   "cell_type": "code",
   "execution_count": 77,
   "metadata": {
    "colab": {
     "base_uri": "https://localhost:8080/"
    },
    "id": "1YIB-Aigza8I",
    "outputId": "174c44aa-118b-4824-d2ab-ed19963be046"
   },
   "outputs": [
    {
     "name": "stdout",
     "output_type": "stream",
     "text": [
      "Melhores parâmetros: {'class_weight': {0: 1, 1: 3}}\n",
      "Melhor F1-score no cross-validation: 0.8902960935977067\n"
     ]
    }
   ],
   "source": [
    "# Definindo parametros para o GridSearch\n",
    "grid_params = {\n",
    "    'class_weight' : [{0 : 1, 1 : 1}, {0 : 1, 1 : 2}, {0 : 1, 1 : 3}, {0 : 1, 1 : 4}, {0 : 1, 1 : 5}],\n",
    "}\n",
    "\n",
    "# Declarando o modelo\n",
    "lr_clf = LogisticRegression(random_state=47)\n",
    "\n",
    "# Treinando com os parâmetros. Lembra-se que o cross validation está sendo realizado\n",
    "# internamente no GridSearch usando o Cross Validation estratificado\n",
    "grid = GridSearchCV(lr_clf, grid_params, cv=10, scoring='f1')\n",
    "grid.fit(X_padr, Y)\n",
    "\n",
    "best_params = grid.best_params_\n",
    "best_score = grid.best_score_\n",
    "\n",
    "print(f\"Melhores parâmetros: {best_params}\")\n",
    "print(f\"Melhor F1-score no cross-validation: {best_score}\")"
   ]
  },
  {
   "cell_type": "code",
   "execution_count": 78,
   "metadata": {
    "colab": {
     "base_uri": "https://localhost:8080/",
     "height": 541
    },
    "id": "BLX2utNhu0oq",
    "outputId": "d4ad99c4-8e07-4372-d2ef-5fc4236151e4"
   },
   "outputs": [
    {
     "name": "stdout",
     "output_type": "stream",
     "text": [
      "Acuracia: 81.52%\n",
      "Acuracia Balanceada: 75.02%\n",
      "Precision: 84.78%\n",
      "Recall: 90.28%\n",
      "F1-score: 87.44%\n"
     ]
    },
    {
     "data": {
      "image/png": "[encoded data removed]",
      "text/plain": [
       "<Figure size 640x480 with 2 Axes>"
      ]
     },
     "metadata": {},
     "output_type": "display_data"
    }
   ],
   "source": [
    "# Redeclarando o modelo com os parâmetros escolhidos\n",
    "lr_clf = LogisticRegression(class_weight={0:1, 1:3}, random_state=47)\n",
    "\n",
    "# Especificando detalhes do cross validation\n",
    "skf = StratifiedKFold(n_splits=10, shuffle=True, random_state=47)\n",
    "\n",
    "# Obtendo classes preditas\n",
    "Y_pred = cross_val_predict(lr_clf, X_padr, Y, cv=skf)\n",
    "\n",
    "# Mostrando resultado obtido\n",
    "showEstimatorMetrics(Y, Y_pred)"
   ]
  },
  {
   "cell_type": "markdown",
   "metadata": {
    "id": "6z1kJhci3Hd3"
   },
   "source": [
    "Apesar do **Logistic Regression** ser um método recomendado para classificações binárias, para o nosso caso, onde o *Recall* era mais importante que a acurácia, o resultado obtido não foi superior aos demais métodos analisados. Além disso, a quantidade de falsos positivos para a classe **CAD** está elevada.\n",
    "\n",
    "Outros métodos precisam ser analisados."
   ]
  },
  {
   "cell_type": "markdown",
   "metadata": {
    "id": "27rOGhSvVNio"
   },
   "source": [
    "### SVM"
   ]
  },
  {
   "cell_type": "code",
   "execution_count": 79,
   "metadata": {
    "id": "l9p8dsHlXLbj"
   },
   "outputs": [],
   "source": [
    "from sklearn.svm import SVC"
   ]
  },
  {
   "cell_type": "markdown",
   "metadata": {
    "id": "iXWHncaBWpet"
   },
   "source": [
    "O SVM é bem sensível ao range de valores dos dados, então para treinar esse modelo precisaremos antes normalizar os dados."
   ]
  },
  {
   "cell_type": "code",
   "execution_count": 80,
   "metadata": {
    "id": "AnZinFJvoNNc"
   },
   "outputs": [],
   "source": [
    "# Padronização dos dados\n",
    "scaler = StandardScaler()\n",
    "X_padr = scaler.fit_transform(X)"
   ]
  },
  {
   "cell_type": "markdown",
   "metadata": {
    "id": "GNsame-EwB81"
   },
   "source": [
    "Como o SVC possui muitos hiperparâmetros, vamos rodar um GridSearch em bsca dos melhores."
   ]
  },
  {
   "cell_type": "code",
   "execution_count": 81,
   "metadata": {
    "colab": {
     "base_uri": "https://localhost:8080/"
    },
    "id": "LPzaDGtyuGlN",
    "outputId": "ba737350-659b-4b76-f74e-82371820c49c"
   },
   "outputs": [
    {
     "name": "stdout",
     "output_type": "stream",
     "text": [
      "Melhores parâmetros: {'kernel': 'sigmoid'}\n",
      "Melhor F1-score no cross-validation: 0.9163548897087331\n"
     ]
    }
   ],
   "source": [
    "# Definindo parametros para o GridSearch\n",
    "grid_params = {\n",
    "    'kernel' : ['linear', 'poly', 'rbf', 'sigmoid'],\n",
    "}\n",
    "\n",
    "# Declarando o modelo\n",
    "svc_clf = SVC(random_state=47)\n",
    "\n",
    "# Treinando com os parâmetros. Lembra-se que o cross validation está sendo realizado\n",
    "# internamente no GridSearch usando o Cross Validation estratificado\n",
    "grid = GridSearchCV(svc_clf, grid_params, cv=10, scoring='f1', refit=False)\n",
    "grid.fit(X_padr, Y)\n",
    "\n",
    "best_params = grid.best_params_\n",
    "best_score = grid.best_score_\n",
    "\n",
    "print(f\"Melhores parâmetros: {best_params}\")\n",
    "print(f\"Melhor F1-score no cross-validation: {best_score}\")"
   ]
  },
  {
   "cell_type": "code",
   "execution_count": 82,
   "metadata": {
    "colab": {
     "base_uri": "https://localhost:8080/",
     "height": 541
    },
    "id": "QtKRATZ_pBj4",
    "outputId": "1a9fe5cb-210b-4e84-b6f7-cb014e474211"
   },
   "outputs": [
    {
     "name": "stdout",
     "output_type": "stream",
     "text": [
      "Acuracia: 86.14%\n",
      "Acuracia Balanceada: 82.38%\n",
      "Precision: 89.55%\n",
      "Recall: 91.20%\n",
      "F1-score: 90.37%\n"
     ]
    },
    {
     "data": {
      "image/png": "[encoded data removed]",
      "text/plain": [
       "<Figure size 640x480 with 2 Axes>"
      ]
     },
     "metadata": {},
     "output_type": "display_data"
    }
   ],
   "source": [
    "# Redeclarando o modelo com os parâmetros escolhidos\n",
    "svc_clf = SVC(kernel='sigmoid', random_state=47)\n",
    "\n",
    "# Especificando detalhes do cross validation\n",
    "skf = StratifiedKFold(n_splits=10, shuffle=True, random_state=47)\n",
    "\n",
    "# Obtendo classes preditas\n",
    "Y_pred = cross_val_predict(svc_clf, X_padr, Y, cv=skf)\n",
    "\n",
    "# Mostrando resultado obtido\n",
    "showEstimatorMetrics(Y, Y_pred)"
   ]
  },
  {
   "cell_type": "markdown",
   "metadata": {
    "id": "JH1SOuw0rjWs"
   },
   "source": [
    "O método *Suport Vector Machine* com kernel *sigmoid* apresentou um resultado surpreendentemente bom. Atingiu uma média de 86% de acurácia e um *Recall* de 91%. Apesar de mais simples, o método se encaixou super bem no nosso dataset."
   ]
  },
  {
   "cell_type": "markdown",
   "metadata": {
    "id": "kgS2HcYFETpJ"
   },
   "source": [
    "## Etapa 2 - Avaliações Finais e Conclusão"
   ]
  },
  {
   "cell_type": "markdown",
   "metadata": {
    "id": "OZUnWQIIE6iA"
   },
   "source": [
    "Dos três métodos que nos propormos a avaliar na etapa anterior, o **SVC** com *kernel sigmoid* e o **Random Forest** com *max_depth* = 6 e *random_state* = 47 obtiveram os melhores resultados, com acurácia de 86% e 85% e *recall* de 91% e 94%, respectivamente.\n",
    "\n",
    "Apesar do *recall* estar aceitável, gostaríamos de um modelo que tivesse um *recall* acima de 90% e uma acurácia de pelo menos uns 88% também. Sabemos que dificilmente conseguiremos um classificador \"perfeito\", mas faremos uma última tentativa utilizando dois últimos métodos: **XGBClassifier** e um **ensemble de SVC**. Cada um foi escolhido pelos seguintes motivos:\n",
    "\n",
    "* O **XGBClassifier** tem tido resultados muito promissores, principalmente nas competições do kaggle. De uns anos pra cá, todos os ganhadores têm usado esse método para treinar seus modelos. Como obtivemos resultados positivos com a Random Forest, essa método valia muito uma tentativa. O XGBClassifier se assemelha a uma Random Forest, mas utiliza a técnica de gradiente descendente para ir construindo suas próximas árvores com base no erro residual da anterior.\n",
    "\n",
    "* O **SVC** obteve a melhor acurácia média dos dois métodos, mas o *recall* ainda ficou um pouco atrás que a Random Forest. Por esse motivo, acreditamos que valeria a pena tentar aplicar esse método num ensemble para observamos se seleção de diferentes conjuntos de teste melhorariam o desempenho do modelo. Nossa esperança é de que seja e até supere a Random Forest treinada anteriormente."
   ]
  },
  {
   "cell_type": "markdown",
   "metadata": {
    "id": "LNTRe1jkEAGl"
   },
   "source": [
    "### XGBClassifier"
   ]
  },
  {
   "cell_type": "code",
   "execution_count": 83,
   "metadata": {
    "colab": {
     "base_uri": "https://localhost:8080/"
    },
    "id": "0Grzl76AI9Lu",
    "outputId": "1f59b670-cff7-4824-a9e0-40685407d2d3"
   },
   "outputs": [
    {
     "name": "stdout",
     "output_type": "stream",
     "text": [
      "Melhores parâmetros: {'learning_rate': 1, 'max_depth': 2, 'n_estimators': 6, 'objective': 'binary:logistic'}\n",
      "Melhor recall no cross-validation: 0.925974025974026\n"
     ]
    }
   ],
   "source": [
    "# Padronização dos dados\n",
    "scaler = StandardScaler()\n",
    "X_padr = scaler.fit_transform(X)\n",
    "\n",
    "# Definindo parametros para o GridSearch\n",
    "grid_params = {\n",
    "    \"n_estimators\" : [2, 4, 6, 8, 10],\n",
    "    \"max_depth\" : [2, 4, 6, 8, 10],\n",
    "    \"learning_rate\" : [1, 2, 3],\n",
    "    \"objective\" : [\"binary:logistic\"]\n",
    "}\n",
    "\n",
    "# Declarando o modelo\n",
    "xgb_clf = xgb.XGBClassifier()\n",
    "\n",
    "# Treinando com os parâmetros. Lembra-se que o cross validation está sendo realizado\n",
    "# internamente no GridSearch usando o Cross Validation estratificado\n",
    "grid = GridSearchCV(xgb_clf, grid_params, cv=10, scoring=\"recall\", refit=False)\n",
    "grid.fit(X_padr, Y)\n",
    "\n",
    "best_params = grid.best_params_\n",
    "best_score = grid.best_score_\n",
    "\n",
    "print(f\"Melhores parâmetros: {best_params}\")\n",
    "print(f\"Melhor recall no cross-validation: {best_score}\")\n"
   ]
  },
  {
   "cell_type": "code",
   "execution_count": 84,
   "metadata": {
    "colab": {
     "base_uri": "https://localhost:8080/",
     "height": 541
    },
    "id": "7zKckIjPMWOO",
    "outputId": "127a6b04-979d-44f4-a1c0-7cc10709a58c"
   },
   "outputs": [
    {
     "name": "stdout",
     "output_type": "stream",
     "text": [
      "Acuracia: 84.49%\n",
      "Acuracia Balanceada: 77.79%\n",
      "Precision: 85.96%\n",
      "Recall: 93.52%\n",
      "F1-score: 89.58%\n"
     ]
    },
    {
     "data": {
      "image/png": "[encoded data removed]",
      "text/plain": [
       "<Figure size 640x480 with 2 Axes>"
      ]
     },
     "metadata": {},
     "output_type": "display_data"
    }
   ],
   "source": [
    "# Redeclarando o modelo com os parâmetros escolhidos\n",
    "xgb_clf = xgb.XGBClassifier(learning_rate = 1, max_depth = 2, n_estimators = 6, objective = \"binary:logistic\")\n",
    "\n",
    "# Especificando detalhes do cross validation\n",
    "skf = StratifiedKFold(n_splits=10, shuffle=True, random_state=47)\n",
    "\n",
    "# Obtendo classes preditas\n",
    "Y_pred = cross_val_predict(xgb_clf, X_padr, Y, cv=skf)\n",
    "\n",
    "# Mostrando resultado obtido\n",
    "showEstimatorMetrics(Y, Y_pred)"
   ]
  },
  {
   "cell_type": "markdown",
   "metadata": {
    "id": "p6K0n7SWwM27"
   },
   "source": [
    "Os resultados obtidos não foram ruins, mas, com uma acurácia de 84% e um *recall* de 93%, o classificador XGBoost teve um desempenho bem semelhante ao Random Forest, não demonstrando nenhuma vantagem sobre esse, como era esperado. Como o *recall* da Random Forest foi levemente maior, ainda é preferível esta ao XGBoost."
   ]
  },
  {
   "cell_type": "markdown",
   "metadata": {
    "id": "kvU8AAAvxXa0"
   },
   "source": [
    "### Ensemble SVM"
   ]
  },
  {
   "cell_type": "code",
   "execution_count": 114,
   "metadata": {
    "id": "im63PwqDxgZh"
   },
   "outputs": [],
   "source": [
    "from sklearn.ensemble import BaggingClassifier\n",
    "from sklearn.pipeline import Pipeline"
   ]
  },
  {
   "cell_type": "code",
   "execution_count": 115,
   "metadata": {
    "colab": {
     "base_uri": "https://localhost:8080/",
     "height": 541
    },
    "id": "YudfQXmg8uvh",
    "outputId": "d3940e75-485b-4187-c07e-a3f7d9ac4206"
   },
   "outputs": [
    {
     "name": "stdout",
     "output_type": "stream",
     "text": [
      "Acuracia: 86.47%\n",
      "Acuracia Balanceada: 82.96%\n",
      "Precision: 89.95%\n",
      "Recall: 91.20%\n",
      "F1-score: 90.57%\n"
     ]
    },
    {
     "data": {
      "image/png": "[encoded data removed]",
      "text/plain": [
       "<Figure size 640x480 with 2 Axes>"
      ]
     },
     "metadata": {},
     "output_type": "display_data"
    }
   ],
   "source": [
    "# Declarando o modelo com os parâmetros escolhidos na Parte 2\n",
    "svc_clf = SVC(kernel='sigmoid', random_state=74)\n",
    "\n",
    "# Ensemble\n",
    "bg_clf = BaggingClassifier(svc_clf, random_state=74)\n",
    "# ab_clf = AdaBoostClassifier(svc_clf, random_state=47, algorithm='SAMME')\n",
    "\n",
    "skf = StratifiedKFold(n_splits=10, shuffle=True, random_state=47)\n",
    "\n",
    "# Obtendo classes preditas\n",
    "Y_pred = cross_val_predict(bg_clf, X_padr, Y, cv=skf)\n",
    "\n",
    "# Mostrando resultado obtido\n",
    "showEstimatorMetrics(Y, Y_pred)"
   ]
  },
  {
   "cell_type": "markdown",
   "metadata": {
    "id": "r8rjxejgIVAg"
   },
   "source": [
    "| Método | Acurácia | Acurácia Balanceada | Precision | Recall | F1-score |\n",
    "|--------|--------|--------|--------|--------|--------|\n",
    "|Random Forest |  85.48% | 78.83% | 86.44% | 94.44% | 90.27%\n",
    "|SVC | 86.14% | 82.38% | 89.55% | 91.20% | 90.37%\n",
    "|XGBoost |  84.49% | 77.79% | 85.96% | 93.52% | 89.58%\n",
    "|Ensemble SVC |  86.47% | 82.96% | 89.95% | 91.20% | 90.57%\n",
    "\n",
    "\n"
   ]
  },
  {
   "cell_type": "markdown",
   "metadata": {
    "id": "EccatQYXLHTP"
   },
   "source": [
    "Comparando os melhores resultados que obtivemos, em caso de colocar um modelo em produção, o que colocariamos seria o **Random Forest**. Nossa escolha foi baseada no melhor desempenho médio do modelo. A prioridade era garantir o maior *recall* possível, pois como estamos lidando com uma doença cardiovascular, devemos diminuir ao máximo a taxa de falsos negativos do nosso modelo. Assim, dos modelos treinados, o maior *recall* foi do método **Random Forest**. Apesar de não possuir o maior *precision*, pois possui uma taxa de 11% de falsos positivos enquanto outros métodos alcançaram 7.3%, a acurácia do método se aproxima bastante dos demais modelos treinados. Dessa forma, nos pareceu coerente escolher o modelo que nos entregasse o menor núemro de falsos negativos, visto a gravidade da natureza do problema, em detrimento de outras taxas como acurácia e *precision*."
   ]
  }
 ],
 "metadata": {
  "colab": {
   "collapsed_sections": [
    "HdLU3Pn0u41O"
   ],
   "provenance": []
  },
  "kernelspec": {
   "display_name": "Python 3 (ipykernel)",
   "language": "python",
   "name": "python3"
  },
  "language_info": {
   "codemirror_mode": {
    "name": "ipython",
    "version": 3
   },
   "file_extension": ".py",
   "mimetype": "text/x-python",
   "name": "python",
   "nbconvert_exporter": "python",
   "pygments_lexer": "ipython3",
   "version": "3.10.12"
  }
 },
 "nbformat": 4,
 "nbformat_minor": 1
}
